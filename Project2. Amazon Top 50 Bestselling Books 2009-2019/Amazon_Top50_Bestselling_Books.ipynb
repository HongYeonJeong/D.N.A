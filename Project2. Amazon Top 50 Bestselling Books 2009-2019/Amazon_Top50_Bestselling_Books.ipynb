{
 "cells": [
  {
   "cell_type": "markdown",
   "metadata": {},
   "source": [
    "# Amazon Top 50 Bestselling Books 2009-2019\n",
    "\n",
    "https://www.kaggle.com/sootersaalu/amazon-top-50-bestselling-books-2009-2019\n",
    "\n",
    "* 분석 방향\n",
    "    - 연도별, 작가별 특징\n",
    "    - 연도별, 장르별 특징\n",
    "    - 작가별, 리뷰수별 특징"
   ]
  },
  {
   "cell_type": "code",
   "execution_count": 1,
   "metadata": {},
   "outputs": [],
   "source": [
    "import warnings\n",
    "warnings.filterwarnings(action='ignore')"
   ]
  },
  {
   "cell_type": "markdown",
   "metadata": {
    "toc": true
   },
   "source": [
    "<h1>Table of Contents<span class=\"tocSkip\"></span></h1>\n",
    "<div class=\"toc\"><ul class=\"toc-item\"><li><span><a href=\"#데이터-불러오기\" data-toc-modified-id=\"데이터-불러오기-1\"><span class=\"toc-item-num\">1&nbsp;&nbsp;</span>데이터 불러오기</a></span></li><li><span><a href=\"#EDA\" data-toc-modified-id=\"EDA-2\"><span class=\"toc-item-num\">2&nbsp;&nbsp;</span>EDA</a></span><ul class=\"toc-item\"><li><span><a href=\"#연도별,-장르별\" data-toc-modified-id=\"연도별,-장르별-2.1\"><span class=\"toc-item-num\">2.1&nbsp;&nbsp;</span>연도별, 장르별</a></span></li><li><span><a href=\"#연도별,-작가별\" data-toc-modified-id=\"연도별,-작가별-2.2\"><span class=\"toc-item-num\">2.2&nbsp;&nbsp;</span>연도별, 작가별</a></span></li><li><span><a href=\"#작가들의-작품-확인\" data-toc-modified-id=\"작가들의-작품-확인-2.3\"><span class=\"toc-item-num\">2.3&nbsp;&nbsp;</span>작가들의 작품 확인</a></span></li><li><span><a href=\"#작가별,-리뷰수별\" data-toc-modified-id=\"작가별,-리뷰수별-2.4\"><span class=\"toc-item-num\">2.4&nbsp;&nbsp;</span>작가별, 리뷰수별</a></span></li><li><span><a href=\"#전체-데이터에서의-리뷰수와-베스트셀러에-등재된-작가의-리뷰수\" data-toc-modified-id=\"전체-데이터에서의-리뷰수와-베스트셀러에-등재된-작가의-리뷰수-2.5\"><span class=\"toc-item-num\">2.5&nbsp;&nbsp;</span>전체 데이터에서의 리뷰수와 베스트셀러에 등재된 작가의 리뷰수</a></span></li><li><span><a href=\"#2014년-Fiction과-Non-Fiction으로-분류해-비교\" data-toc-modified-id=\"2014년-Fiction과-Non-Fiction으로-분류해-비교-2.6\"><span class=\"toc-item-num\">2.6&nbsp;&nbsp;</span>2014년 Fiction과 Non Fiction으로 분류해 비교</a></span></li><li><span><a href=\"#가격\" data-toc-modified-id=\"가격-2.7\"><span class=\"toc-item-num\">2.7&nbsp;&nbsp;</span>가격</a></span></li></ul></li><li><span><a href=\"#책-제목으로-작가-예측\" data-toc-modified-id=\"책-제목으로-작가-예측-3\"><span class=\"toc-item-num\">3&nbsp;&nbsp;</span>책 제목으로 작가 예측</a></span><ul class=\"toc-item\"><li><span><a href=\"#데이터-전처리\" data-toc-modified-id=\"데이터-전처리-3.1\"><span class=\"toc-item-num\">3.1&nbsp;&nbsp;</span>데이터 전처리</a></span></li><li><span><a href=\"#전제-제목에-대한-워드클라우드---어떤-단어를-가장-많이-사용하는지?\" data-toc-modified-id=\"전제-제목에-대한-워드클라우드---어떤-단어를-가장-많이-사용하는지?-3.2\"><span class=\"toc-item-num\">3.2&nbsp;&nbsp;</span>전제 제목에 대한 워드클라우드 - 어떤 단어를 가장 많이 사용하는지?</a></span><ul class=\"toc-item\"><li><span><a href=\"#데이터-정의\" data-toc-modified-id=\"데이터-정의-3.2.1\"><span class=\"toc-item-num\">3.2.1&nbsp;&nbsp;</span>데이터 정의</a></span></li><li><span><a href=\"#워드클라우드-그리기\" data-toc-modified-id=\"워드클라우드-그리기-3.2.2\"><span class=\"toc-item-num\">3.2.2&nbsp;&nbsp;</span>워드클라우드 그리기</a></span></li></ul></li><li><span><a href=\"#작가별-제목의-워드클라우드\" data-toc-modified-id=\"작가별-제목의-워드클라우드-3.3\"><span class=\"toc-item-num\">3.3&nbsp;&nbsp;</span>작가별 제목의 워드클라우드</a></span><ul class=\"toc-item\"><li><span><a href=\"#데이터-추출\" data-toc-modified-id=\"데이터-추출-3.3.1\"><span class=\"toc-item-num\">3.3.1&nbsp;&nbsp;</span>데이터 추출</a></span></li><li><span><a href=\"#작가-:-Jeff-Kinney\" data-toc-modified-id=\"작가-:-Jeff-Kinney-3.3.2\"><span class=\"toc-item-num\">3.3.2&nbsp;&nbsp;</span>작가 : Jeff Kinney</a></span></li><li><span><a href=\"#작가-:-Gary-Champman\" data-toc-modified-id=\"작가-:-Gary-Champman-3.3.3\"><span class=\"toc-item-num\">3.3.3&nbsp;&nbsp;</span>작가 : Gary Champman</a></span></li><li><span><a href=\"#작가--:-Suzanne-Collins\" data-toc-modified-id=\"작가--:-Suzanne-Collins-3.3.4\"><span class=\"toc-item-num\">3.3.4&nbsp;&nbsp;</span>작가  : Suzanne Collins</a></span></li><li><span><a href=\"#작가-:-Rick-Riordan\" data-toc-modified-id=\"작가-:-Rick-Riordan-3.3.5\"><span class=\"toc-item-num\">3.3.5&nbsp;&nbsp;</span>작가 : Rick Riordan</a></span></li></ul></li><li><span><a href=\"#Author--예측\" data-toc-modified-id=\"Author--예측-3.4\"><span class=\"toc-item-num\">3.4&nbsp;&nbsp;</span>Author  예측</a></span><ul class=\"toc-item\"><li><span><a href=\"#데이터-분할\" data-toc-modified-id=\"데이터-분할-3.4.1\"><span class=\"toc-item-num\">3.4.1&nbsp;&nbsp;</span>데이터 분할</a></span></li><li><span><a href=\"#토크나이저-함수-정의\" data-toc-modified-id=\"토크나이저-함수-정의-3.4.2\"><span class=\"toc-item-num\">3.4.2&nbsp;&nbsp;</span>토크나이저 함수 정의</a></span></li><li><span><a href=\"#CountVector-기반-특성-추출\" data-toc-modified-id=\"CountVector-기반-특성-추출-3.4.3\"><span class=\"toc-item-num\">3.4.3&nbsp;&nbsp;</span>CountVector 기반 특성 추출</a></span></li><li><span><a href=\"#TfidfVector-기반-특성-추출\" data-toc-modified-id=\"TfidfVector-기반-특성-추출-3.4.4\"><span class=\"toc-item-num\">3.4.4&nbsp;&nbsp;</span>TfidfVector 기반 특성 추출</a></span></li></ul></li><li><span><a href=\"#최종-결과-비교\" data-toc-modified-id=\"최종-결과-비교-3.5\"><span class=\"toc-item-num\">3.5&nbsp;&nbsp;</span>최종 결과 비교</a></span><ul class=\"toc-item\"><li><span><a href=\"#CountVector-기반\" data-toc-modified-id=\"CountVector-기반-3.5.1\"><span class=\"toc-item-num\">3.5.1&nbsp;&nbsp;</span>CountVector 기반</a></span></li><li><span><a href=\"#TfidfVector-기반\" data-toc-modified-id=\"TfidfVector-기반-3.5.2\"><span class=\"toc-item-num\">3.5.2&nbsp;&nbsp;</span>TfidfVector 기반</a></span></li></ul></li></ul></li><li><span><a href=\"#책-제목으로-장르-예측\" data-toc-modified-id=\"책-제목으로-장르-예측-4\"><span class=\"toc-item-num\">4&nbsp;&nbsp;</span>책 제목으로 장르 예측</a></span><ul class=\"toc-item\"><li><span><a href=\"#릿지-회귀-이용\" data-toc-modified-id=\"릿지-회귀-이용-4.1\"><span class=\"toc-item-num\">4.1&nbsp;&nbsp;</span>릿지 회귀 이용</a></span><ul class=\"toc-item\"><li><span><a href=\"#CountVector\" data-toc-modified-id=\"CountVector-4.1.1\"><span class=\"toc-item-num\">4.1.1&nbsp;&nbsp;</span>CountVector</a></span></li><li><span><a href=\"#TfidfVector\" data-toc-modified-id=\"TfidfVector-4.1.2\"><span class=\"toc-item-num\">4.1.2&nbsp;&nbsp;</span>TfidfVector</a></span></li></ul></li><li><span><a href=\"#딥러닝-이용\" data-toc-modified-id=\"딥러닝-이용-4.2\"><span class=\"toc-item-num\">4.2&nbsp;&nbsp;</span>딥러닝 이용</a></span><ul class=\"toc-item\"><li><span><a href=\"#매개변수-결정\" data-toc-modified-id=\"매개변수-결정-4.2.1\"><span class=\"toc-item-num\">4.2.1&nbsp;&nbsp;</span>매개변수 결정</a></span></li><li><span><a href=\"#데이터-정의\" data-toc-modified-id=\"데이터-정의-4.2.2\"><span class=\"toc-item-num\">4.2.2&nbsp;&nbsp;</span>데이터 정의</a></span></li><li><span><a href=\"#Word-Embedding\" data-toc-modified-id=\"Word-Embedding-4.2.3\"><span class=\"toc-item-num\">4.2.3&nbsp;&nbsp;</span>Word Embedding</a></span></li><li><span><a href=\"#데이터-분할\" data-toc-modified-id=\"데이터-분할-4.2.4\"><span class=\"toc-item-num\">4.2.4&nbsp;&nbsp;</span>데이터 분할</a></span></li><li><span><a href=\"#CNN-모델-정의\" data-toc-modified-id=\"CNN-모델-정의-4.2.5\"><span class=\"toc-item-num\">4.2.5&nbsp;&nbsp;</span>CNN 모델 정의</a></span></li><li><span><a href=\"#모델-학습\" data-toc-modified-id=\"모델-학습-4.2.6\"><span class=\"toc-item-num\">4.2.6&nbsp;&nbsp;</span>모델 학습</a></span></li><li><span><a href=\"#모델-학습-결과\" data-toc-modified-id=\"모델-학습-결과-4.2.7\"><span class=\"toc-item-num\">4.2.7&nbsp;&nbsp;</span>모델 학습 결과</a></span></li><li><span><a href=\"#Test-set-분류-결과\" data-toc-modified-id=\"Test-set-분류-결과-4.2.8\"><span class=\"toc-item-num\">4.2.8&nbsp;&nbsp;</span>Test set 분류 결과</a></span></li></ul></li></ul></li></ul></div>"
   ]
  },
  {
   "cell_type": "markdown",
   "metadata": {},
   "source": [
    "## 데이터 불러오기"
   ]
  },
  {
   "cell_type": "code",
   "execution_count": 2,
   "metadata": {},
   "outputs": [
    {
     "data": {
      "text/html": [
       "<div>\n",
       "<style scoped>\n",
       "    .dataframe tbody tr th:only-of-type {\n",
       "        vertical-align: middle;\n",
       "    }\n",
       "\n",
       "    .dataframe tbody tr th {\n",
       "        vertical-align: top;\n",
       "    }\n",
       "\n",
       "    .dataframe thead th {\n",
       "        text-align: right;\n",
       "    }\n",
       "</style>\n",
       "<table border=\"1\" class=\"dataframe\">\n",
       "  <thead>\n",
       "    <tr style=\"text-align: right;\">\n",
       "      <th></th>\n",
       "      <th>Name</th>\n",
       "      <th>Author</th>\n",
       "      <th>User Rating</th>\n",
       "      <th>Reviews</th>\n",
       "      <th>Price</th>\n",
       "      <th>Year</th>\n",
       "      <th>Genre</th>\n",
       "    </tr>\n",
       "  </thead>\n",
       "  <tbody>\n",
       "    <tr>\n",
       "      <th>0</th>\n",
       "      <td>10-Day Green Smoothie Cleanse</td>\n",
       "      <td>JJ Smith</td>\n",
       "      <td>4.7</td>\n",
       "      <td>17350</td>\n",
       "      <td>8</td>\n",
       "      <td>2016</td>\n",
       "      <td>Non Fiction</td>\n",
       "    </tr>\n",
       "    <tr>\n",
       "      <th>1</th>\n",
       "      <td>11/22/63: A Novel</td>\n",
       "      <td>Stephen King</td>\n",
       "      <td>4.6</td>\n",
       "      <td>2052</td>\n",
       "      <td>22</td>\n",
       "      <td>2011</td>\n",
       "      <td>Fiction</td>\n",
       "    </tr>\n",
       "    <tr>\n",
       "      <th>2</th>\n",
       "      <td>12 Rules for Life: An Antidote to Chaos</td>\n",
       "      <td>Jordan B. Peterson</td>\n",
       "      <td>4.7</td>\n",
       "      <td>18979</td>\n",
       "      <td>15</td>\n",
       "      <td>2018</td>\n",
       "      <td>Non Fiction</td>\n",
       "    </tr>\n",
       "    <tr>\n",
       "      <th>3</th>\n",
       "      <td>1984 (Signet Classics)</td>\n",
       "      <td>George Orwell</td>\n",
       "      <td>4.7</td>\n",
       "      <td>21424</td>\n",
       "      <td>6</td>\n",
       "      <td>2017</td>\n",
       "      <td>Fiction</td>\n",
       "    </tr>\n",
       "    <tr>\n",
       "      <th>4</th>\n",
       "      <td>5,000 Awesome Facts (About Everything!) (Natio...</td>\n",
       "      <td>National Geographic Kids</td>\n",
       "      <td>4.8</td>\n",
       "      <td>7665</td>\n",
       "      <td>12</td>\n",
       "      <td>2019</td>\n",
       "      <td>Non Fiction</td>\n",
       "    </tr>\n",
       "    <tr>\n",
       "      <th>...</th>\n",
       "      <td>...</td>\n",
       "      <td>...</td>\n",
       "      <td>...</td>\n",
       "      <td>...</td>\n",
       "      <td>...</td>\n",
       "      <td>...</td>\n",
       "      <td>...</td>\n",
       "    </tr>\n",
       "    <tr>\n",
       "      <th>545</th>\n",
       "      <td>Wrecking Ball (Diary of a Wimpy Kid Book 14)</td>\n",
       "      <td>Jeff Kinney</td>\n",
       "      <td>4.9</td>\n",
       "      <td>9413</td>\n",
       "      <td>8</td>\n",
       "      <td>2019</td>\n",
       "      <td>Fiction</td>\n",
       "    </tr>\n",
       "    <tr>\n",
       "      <th>546</th>\n",
       "      <td>You Are a Badass: How to Stop Doubting Your Gr...</td>\n",
       "      <td>Jen Sincero</td>\n",
       "      <td>4.7</td>\n",
       "      <td>14331</td>\n",
       "      <td>8</td>\n",
       "      <td>2016</td>\n",
       "      <td>Non Fiction</td>\n",
       "    </tr>\n",
       "    <tr>\n",
       "      <th>547</th>\n",
       "      <td>You Are a Badass: How to Stop Doubting Your Gr...</td>\n",
       "      <td>Jen Sincero</td>\n",
       "      <td>4.7</td>\n",
       "      <td>14331</td>\n",
       "      <td>8</td>\n",
       "      <td>2017</td>\n",
       "      <td>Non Fiction</td>\n",
       "    </tr>\n",
       "    <tr>\n",
       "      <th>548</th>\n",
       "      <td>You Are a Badass: How to Stop Doubting Your Gr...</td>\n",
       "      <td>Jen Sincero</td>\n",
       "      <td>4.7</td>\n",
       "      <td>14331</td>\n",
       "      <td>8</td>\n",
       "      <td>2018</td>\n",
       "      <td>Non Fiction</td>\n",
       "    </tr>\n",
       "    <tr>\n",
       "      <th>549</th>\n",
       "      <td>You Are a Badass: How to Stop Doubting Your Gr...</td>\n",
       "      <td>Jen Sincero</td>\n",
       "      <td>4.7</td>\n",
       "      <td>14331</td>\n",
       "      <td>8</td>\n",
       "      <td>2019</td>\n",
       "      <td>Non Fiction</td>\n",
       "    </tr>\n",
       "  </tbody>\n",
       "</table>\n",
       "<p>550 rows × 7 columns</p>\n",
       "</div>"
      ],
      "text/plain": [
       "                                                  Name  \\\n",
       "0                        10-Day Green Smoothie Cleanse   \n",
       "1                                    11/22/63: A Novel   \n",
       "2              12 Rules for Life: An Antidote to Chaos   \n",
       "3                               1984 (Signet Classics)   \n",
       "4    5,000 Awesome Facts (About Everything!) (Natio...   \n",
       "..                                                 ...   \n",
       "545       Wrecking Ball (Diary of a Wimpy Kid Book 14)   \n",
       "546  You Are a Badass: How to Stop Doubting Your Gr...   \n",
       "547  You Are a Badass: How to Stop Doubting Your Gr...   \n",
       "548  You Are a Badass: How to Stop Doubting Your Gr...   \n",
       "549  You Are a Badass: How to Stop Doubting Your Gr...   \n",
       "\n",
       "                       Author  User Rating  Reviews  Price  Year        Genre  \n",
       "0                    JJ Smith          4.7    17350      8  2016  Non Fiction  \n",
       "1                Stephen King          4.6     2052     22  2011      Fiction  \n",
       "2          Jordan B. Peterson          4.7    18979     15  2018  Non Fiction  \n",
       "3               George Orwell          4.7    21424      6  2017      Fiction  \n",
       "4    National Geographic Kids          4.8     7665     12  2019  Non Fiction  \n",
       "..                        ...          ...      ...    ...   ...          ...  \n",
       "545               Jeff Kinney          4.9     9413      8  2019      Fiction  \n",
       "546               Jen Sincero          4.7    14331      8  2016  Non Fiction  \n",
       "547               Jen Sincero          4.7    14331      8  2017  Non Fiction  \n",
       "548               Jen Sincero          4.7    14331      8  2018  Non Fiction  \n",
       "549               Jen Sincero          4.7    14331      8  2019  Non Fiction  \n",
       "\n",
       "[550 rows x 7 columns]"
      ]
     },
     "execution_count": 2,
     "metadata": {},
     "output_type": "execute_result"
    }
   ],
   "source": [
    "import pandas as pd\n",
    "\n",
    "df = pd.read_csv('bestsellers with categories.csv')\n",
    "df"
   ]
  },
  {
   "cell_type": "markdown",
   "metadata": {},
   "source": [
    "* Name : 책의 이름\n",
    "* Author : 책의 저자\n",
    "* User Rating : 아마존 사용자 평가\n",
    "* Reviews : 아마존에 작성된 리뷰 수\n",
    "* Price : 책 가격\n",
    "* Year : 베스트셀러에 선정된 연도\n",
    "* Genre : 장르"
   ]
  },
  {
   "cell_type": "code",
   "execution_count": 3,
   "metadata": {},
   "outputs": [
    {
     "name": "stdout",
     "output_type": "stream",
     "text": [
      "<class 'pandas.core.frame.DataFrame'>\n",
      "RangeIndex: 550 entries, 0 to 549\n",
      "Data columns (total 7 columns):\n",
      " #   Column       Non-Null Count  Dtype  \n",
      "---  ------       --------------  -----  \n",
      " 0   Name         550 non-null    object \n",
      " 1   Author       550 non-null    object \n",
      " 2   User Rating  550 non-null    float64\n",
      " 3   Reviews      550 non-null    int64  \n",
      " 4   Price        550 non-null    int64  \n",
      " 5   Year         550 non-null    int64  \n",
      " 6   Genre        550 non-null    object \n",
      "dtypes: float64(1), int64(3), object(3)\n",
      "memory usage: 30.2+ KB\n"
     ]
    }
   ],
   "source": [
    "df.info() # null 값 없음"
   ]
  },
  {
   "cell_type": "markdown",
   "metadata": {},
   "source": [
    "## EDA"
   ]
  },
  {
   "cell_type": "code",
   "execution_count": 5,
   "metadata": {
    "scrolled": false
   },
   "outputs": [
    {
     "name": "stdout",
     "output_type": "stream",
     "text": [
      "248\n"
     ]
    }
   ],
   "source": [
    "# 작가 수\n",
    "print(len(df['Author'].unique()))"
   ]
  },
  {
   "cell_type": "code",
   "execution_count": 6,
   "metadata": {
    "scrolled": false
   },
   "outputs": [
    {
     "data": {
      "text/html": [
       "<div>\n",
       "<style scoped>\n",
       "    .dataframe tbody tr th:only-of-type {\n",
       "        vertical-align: middle;\n",
       "    }\n",
       "\n",
       "    .dataframe tbody tr th {\n",
       "        vertical-align: top;\n",
       "    }\n",
       "\n",
       "    .dataframe thead th {\n",
       "        text-align: right;\n",
       "    }\n",
       "</style>\n",
       "<table border=\"1\" class=\"dataframe\">\n",
       "  <thead>\n",
       "    <tr style=\"text-align: right;\">\n",
       "      <th></th>\n",
       "      <th>Name</th>\n",
       "      <th>User Rating</th>\n",
       "      <th>Reviews</th>\n",
       "      <th>Price</th>\n",
       "      <th>Year</th>\n",
       "      <th>Genre</th>\n",
       "    </tr>\n",
       "    <tr>\n",
       "      <th>Author</th>\n",
       "      <th></th>\n",
       "      <th></th>\n",
       "      <th></th>\n",
       "      <th></th>\n",
       "      <th></th>\n",
       "      <th></th>\n",
       "    </tr>\n",
       "  </thead>\n",
       "  <tbody>\n",
       "    <tr>\n",
       "      <th>Abraham Verghese</th>\n",
       "      <td>2</td>\n",
       "      <td>2</td>\n",
       "      <td>2</td>\n",
       "      <td>2</td>\n",
       "      <td>2</td>\n",
       "      <td>2</td>\n",
       "    </tr>\n",
       "    <tr>\n",
       "      <th>Adam Gasiewski</th>\n",
       "      <td>1</td>\n",
       "      <td>1</td>\n",
       "      <td>1</td>\n",
       "      <td>1</td>\n",
       "      <td>1</td>\n",
       "      <td>1</td>\n",
       "    </tr>\n",
       "    <tr>\n",
       "      <th>Adam Mansbach</th>\n",
       "      <td>1</td>\n",
       "      <td>1</td>\n",
       "      <td>1</td>\n",
       "      <td>1</td>\n",
       "      <td>1</td>\n",
       "      <td>1</td>\n",
       "    </tr>\n",
       "    <tr>\n",
       "      <th>Adir Levy</th>\n",
       "      <td>1</td>\n",
       "      <td>1</td>\n",
       "      <td>1</td>\n",
       "      <td>1</td>\n",
       "      <td>1</td>\n",
       "      <td>1</td>\n",
       "    </tr>\n",
       "    <tr>\n",
       "      <th>Admiral William H. McRaven</th>\n",
       "      <td>1</td>\n",
       "      <td>1</td>\n",
       "      <td>1</td>\n",
       "      <td>1</td>\n",
       "      <td>1</td>\n",
       "      <td>1</td>\n",
       "    </tr>\n",
       "    <tr>\n",
       "      <th>...</th>\n",
       "      <td>...</td>\n",
       "      <td>...</td>\n",
       "      <td>...</td>\n",
       "      <td>...</td>\n",
       "      <td>...</td>\n",
       "      <td>...</td>\n",
       "    </tr>\n",
       "    <tr>\n",
       "      <th>Walter Isaacson</th>\n",
       "      <td>3</td>\n",
       "      <td>3</td>\n",
       "      <td>3</td>\n",
       "      <td>3</td>\n",
       "      <td>3</td>\n",
       "      <td>3</td>\n",
       "    </tr>\n",
       "    <tr>\n",
       "      <th>William Davis</th>\n",
       "      <td>2</td>\n",
       "      <td>2</td>\n",
       "      <td>2</td>\n",
       "      <td>2</td>\n",
       "      <td>2</td>\n",
       "      <td>2</td>\n",
       "    </tr>\n",
       "    <tr>\n",
       "      <th>William P. Young</th>\n",
       "      <td>2</td>\n",
       "      <td>2</td>\n",
       "      <td>2</td>\n",
       "      <td>2</td>\n",
       "      <td>2</td>\n",
       "      <td>2</td>\n",
       "    </tr>\n",
       "    <tr>\n",
       "      <th>Wizards RPG Team</th>\n",
       "      <td>3</td>\n",
       "      <td>3</td>\n",
       "      <td>3</td>\n",
       "      <td>3</td>\n",
       "      <td>3</td>\n",
       "      <td>3</td>\n",
       "    </tr>\n",
       "    <tr>\n",
       "      <th>Zhi Gang Sha</th>\n",
       "      <td>2</td>\n",
       "      <td>2</td>\n",
       "      <td>2</td>\n",
       "      <td>2</td>\n",
       "      <td>2</td>\n",
       "      <td>2</td>\n",
       "    </tr>\n",
       "  </tbody>\n",
       "</table>\n",
       "<p>248 rows × 6 columns</p>\n",
       "</div>"
      ],
      "text/plain": [
       "                            Name  User Rating  Reviews  Price  Year  Genre\n",
       "Author                                                                    \n",
       "Abraham Verghese               2            2        2      2     2      2\n",
       "Adam Gasiewski                 1            1        1      1     1      1\n",
       "Adam Mansbach                  1            1        1      1     1      1\n",
       "Adir Levy                      1            1        1      1     1      1\n",
       "Admiral William H. McRaven     1            1        1      1     1      1\n",
       "...                          ...          ...      ...    ...   ...    ...\n",
       "Walter Isaacson                3            3        3      3     3      3\n",
       "William Davis                  2            2        2      2     2      2\n",
       "William P. Young               2            2        2      2     2      2\n",
       "Wizards RPG Team               3            3        3      3     3      3\n",
       "Zhi Gang Sha                   2            2        2      2     2      2\n",
       "\n",
       "[248 rows x 6 columns]"
      ]
     },
     "execution_count": 6,
     "metadata": {},
     "output_type": "execute_result"
    }
   ],
   "source": [
    "df.groupby('Author').count()"
   ]
  },
  {
   "cell_type": "markdown",
   "metadata": {},
   "source": [
    "### 연도별, 장르별"
   ]
  },
  {
   "cell_type": "code",
   "execution_count": 8,
   "metadata": {
    "scrolled": true
   },
   "outputs": [
    {
     "data": {
      "text/plain": [
       "Non Fiction    310\n",
       "Fiction        240\n",
       "Name: Genre, dtype: int64"
      ]
     },
     "execution_count": 8,
     "metadata": {},
     "output_type": "execute_result"
    }
   ],
   "source": [
    "import matplotlib.pyplot as plt\n",
    "\n",
    "df['Genre'].value_counts().plot.pie(autopct=\"%.1f%%\")\n",
    "df['Genre'].value_counts()"
   ]
  },
  {
   "cell_type": "code",
   "execution_count": 9,
   "metadata": {},
   "outputs": [
    {
     "data": {
      "image/png": "[encoded data removed]",
      "text/plain": [
       "<Figure size 864x504 with 1 Axes>"
      ]
     },
     "metadata": {
      "needs_background": "light"
     },
     "output_type": "display_data"
    }
   ],
   "source": [
    "import seaborn as sns\n",
    "\n",
    "plt.figure(figsize=(12,7))\n",
    "sns.countplot(df['Year'],hue=df['Genre'])\n",
    "plt.show()"
   ]
  },
  {
   "cell_type": "markdown",
   "metadata": {},
   "source": [
    "### 연도별, 작가별"
   ]
  },
  {
   "cell_type": "code",
   "execution_count": 10,
   "metadata": {},
   "outputs": [
    {
     "data": {
      "text/plain": [
       "<matplotlib.axes._subplots.AxesSubplot at 0x1cefc2147f0>"
      ]
     },
     "execution_count": 10,
     "metadata": {},
     "output_type": "execute_result"
    },
    {
     "data": {
      "image/png": "[encoded data removed]",
      "text/plain": [
       "<Figure size 1008x504 with 1 Axes>"
      ]
     },
     "metadata": {
      "needs_background": "light"
     },
     "output_type": "display_data"
    }
   ],
   "source": [
    "df.groupby('Author').count().sort_values(by='Name', ascending=False)['Name'].head(20).plot(kind='barh',\n",
    "                                                                                            figsize=(14, 7),\n",
    "                                                                                            color='green',\n",
    "                                                                                            alpha=0.6)"
   ]
  },
  {
   "cell_type": "markdown",
   "metadata": {},
   "source": [
    "### 작가들의 작품 확인"
   ]
  },
  {
   "cell_type": "code",
   "execution_count": 10,
   "metadata": {},
   "outputs": [
    {
     "data": {
      "text/html": [
       "<div>\n",
       "<style scoped>\n",
       "    .dataframe tbody tr th:only-of-type {\n",
       "        vertical-align: middle;\n",
       "    }\n",
       "\n",
       "    .dataframe tbody tr th {\n",
       "        vertical-align: top;\n",
       "    }\n",
       "\n",
       "    .dataframe thead th {\n",
       "        text-align: right;\n",
       "    }\n",
       "</style>\n",
       "<table border=\"1\" class=\"dataframe\">\n",
       "  <thead>\n",
       "    <tr style=\"text-align: right;\">\n",
       "      <th></th>\n",
       "      <th>Year</th>\n",
       "      <th>Author</th>\n",
       "      <th>Name</th>\n",
       "    </tr>\n",
       "  </thead>\n",
       "  <tbody>\n",
       "    <tr>\n",
       "      <th>42</th>\n",
       "      <td>2011</td>\n",
       "      <td>Jeff Kinney</td>\n",
       "      <td>Cabin Fever (Diary of a Wimpy Kid, Book 6)</td>\n",
       "    </tr>\n",
       "    <tr>\n",
       "      <th>71</th>\n",
       "      <td>2013</td>\n",
       "      <td>Jeff Kinney</td>\n",
       "      <td>Diary of a Wimpy Kid: Hard Luck, Book 8</td>\n",
       "    </tr>\n",
       "    <tr>\n",
       "      <th>72</th>\n",
       "      <td>2009</td>\n",
       "      <td>Jeff Kinney</td>\n",
       "      <td>Diary of a Wimpy Kid: The Last Straw (Book 3)</td>\n",
       "    </tr>\n",
       "    <tr>\n",
       "      <th>73</th>\n",
       "      <td>2014</td>\n",
       "      <td>Jeff Kinney</td>\n",
       "      <td>Diary of a Wimpy Kid: The Long Haul</td>\n",
       "    </tr>\n",
       "    <tr>\n",
       "      <th>80</th>\n",
       "      <td>2009</td>\n",
       "      <td>Jeff Kinney</td>\n",
       "      <td>Dog Days (Diary of a Wimpy Kid, Book 4) (Volum...</td>\n",
       "    </tr>\n",
       "    <tr>\n",
       "      <th>88</th>\n",
       "      <td>2016</td>\n",
       "      <td>Jeff Kinney</td>\n",
       "      <td>Double Down (Diary of a Wimpy Kid #11)</td>\n",
       "    </tr>\n",
       "    <tr>\n",
       "      <th>253</th>\n",
       "      <td>2015</td>\n",
       "      <td>Jeff Kinney</td>\n",
       "      <td>Old School (Diary of a Wimpy Kid #10)</td>\n",
       "    </tr>\n",
       "    <tr>\n",
       "      <th>381</th>\n",
       "      <td>2017</td>\n",
       "      <td>Jeff Kinney</td>\n",
       "      <td>The Getaway</td>\n",
       "    </tr>\n",
       "    <tr>\n",
       "      <th>435</th>\n",
       "      <td>2018</td>\n",
       "      <td>Jeff Kinney</td>\n",
       "      <td>The Meltdown (Diary of a Wimpy Kid Book 13)</td>\n",
       "    </tr>\n",
       "    <tr>\n",
       "      <th>468</th>\n",
       "      <td>2012</td>\n",
       "      <td>Jeff Kinney</td>\n",
       "      <td>The Third Wheel (Diary of a Wimpy Kid, Book 7)</td>\n",
       "    </tr>\n",
       "    <tr>\n",
       "      <th>474</th>\n",
       "      <td>2010</td>\n",
       "      <td>Jeff Kinney</td>\n",
       "      <td>The Ugly Truth (Diary of a Wimpy Kid, Book 5)</td>\n",
       "    </tr>\n",
       "    <tr>\n",
       "      <th>545</th>\n",
       "      <td>2019</td>\n",
       "      <td>Jeff Kinney</td>\n",
       "      <td>Wrecking Ball (Diary of a Wimpy Kid Book 14)</td>\n",
       "    </tr>\n",
       "  </tbody>\n",
       "</table>\n",
       "</div>"
      ],
      "text/plain": [
       "     Year       Author                                               Name\n",
       "42   2011  Jeff Kinney         Cabin Fever (Diary of a Wimpy Kid, Book 6)\n",
       "71   2013  Jeff Kinney            Diary of a Wimpy Kid: Hard Luck, Book 8\n",
       "72   2009  Jeff Kinney      Diary of a Wimpy Kid: The Last Straw (Book 3)\n",
       "73   2014  Jeff Kinney                Diary of a Wimpy Kid: The Long Haul\n",
       "80   2009  Jeff Kinney  Dog Days (Diary of a Wimpy Kid, Book 4) (Volum...\n",
       "88   2016  Jeff Kinney             Double Down (Diary of a Wimpy Kid #11)\n",
       "253  2015  Jeff Kinney              Old School (Diary of a Wimpy Kid #10)\n",
       "381  2017  Jeff Kinney                                        The Getaway\n",
       "435  2018  Jeff Kinney        The Meltdown (Diary of a Wimpy Kid Book 13)\n",
       "468  2012  Jeff Kinney     The Third Wheel (Diary of a Wimpy Kid, Book 7)\n",
       "474  2010  Jeff Kinney      The Ugly Truth (Diary of a Wimpy Kid, Book 5)\n",
       "545  2019  Jeff Kinney       Wrecking Ball (Diary of a Wimpy Kid Book 14)"
      ]
     },
     "execution_count": 10,
     "metadata": {},
     "output_type": "execute_result"
    }
   ],
   "source": [
    "df[['Year', 'Author', 'Name']].loc[df['Author']=='Jeff Kinney']"
   ]
  },
  {
   "cell_type": "code",
   "execution_count": 11,
   "metadata": {},
   "outputs": [
    {
     "data": {
      "text/html": [
       "<div>\n",
       "<style scoped>\n",
       "    .dataframe tbody tr th:only-of-type {\n",
       "        vertical-align: middle;\n",
       "    }\n",
       "\n",
       "    .dataframe tbody tr th {\n",
       "        vertical-align: top;\n",
       "    }\n",
       "\n",
       "    .dataframe thead th {\n",
       "        text-align: right;\n",
       "    }\n",
       "</style>\n",
       "<table border=\"1\" class=\"dataframe\">\n",
       "  <thead>\n",
       "    <tr style=\"text-align: right;\">\n",
       "      <th></th>\n",
       "      <th>Year</th>\n",
       "      <th>Author</th>\n",
       "      <th>Name</th>\n",
       "    </tr>\n",
       "  </thead>\n",
       "  <tbody>\n",
       "    <tr>\n",
       "      <th>320</th>\n",
       "      <td>2010</td>\n",
       "      <td>Gary Chapman</td>\n",
       "      <td>The 5 Love Languages: The Secret to Love That ...</td>\n",
       "    </tr>\n",
       "    <tr>\n",
       "      <th>321</th>\n",
       "      <td>2011</td>\n",
       "      <td>Gary Chapman</td>\n",
       "      <td>The 5 Love Languages: The Secret to Love That ...</td>\n",
       "    </tr>\n",
       "    <tr>\n",
       "      <th>322</th>\n",
       "      <td>2012</td>\n",
       "      <td>Gary Chapman</td>\n",
       "      <td>The 5 Love Languages: The Secret to Love That ...</td>\n",
       "    </tr>\n",
       "    <tr>\n",
       "      <th>323</th>\n",
       "      <td>2013</td>\n",
       "      <td>Gary Chapman</td>\n",
       "      <td>The 5 Love Languages: The Secret to Love That ...</td>\n",
       "    </tr>\n",
       "    <tr>\n",
       "      <th>324</th>\n",
       "      <td>2014</td>\n",
       "      <td>Gary Chapman</td>\n",
       "      <td>The 5 Love Languages: The Secret to Love That ...</td>\n",
       "    </tr>\n",
       "    <tr>\n",
       "      <th>325</th>\n",
       "      <td>2015</td>\n",
       "      <td>Gary Chapman</td>\n",
       "      <td>The 5 Love Languages: The Secret to Love that ...</td>\n",
       "    </tr>\n",
       "    <tr>\n",
       "      <th>326</th>\n",
       "      <td>2016</td>\n",
       "      <td>Gary Chapman</td>\n",
       "      <td>The 5 Love Languages: The Secret to Love that ...</td>\n",
       "    </tr>\n",
       "    <tr>\n",
       "      <th>327</th>\n",
       "      <td>2017</td>\n",
       "      <td>Gary Chapman</td>\n",
       "      <td>The 5 Love Languages: The Secret to Love that ...</td>\n",
       "    </tr>\n",
       "    <tr>\n",
       "      <th>328</th>\n",
       "      <td>2018</td>\n",
       "      <td>Gary Chapman</td>\n",
       "      <td>The 5 Love Languages: The Secret to Love that ...</td>\n",
       "    </tr>\n",
       "    <tr>\n",
       "      <th>329</th>\n",
       "      <td>2019</td>\n",
       "      <td>Gary Chapman</td>\n",
       "      <td>The 5 Love Languages: The Secret to Love that ...</td>\n",
       "    </tr>\n",
       "    <tr>\n",
       "      <th>374</th>\n",
       "      <td>2009</td>\n",
       "      <td>Gary Chapman</td>\n",
       "      <td>The Five Love Languages: How to Express Heartf...</td>\n",
       "    </tr>\n",
       "  </tbody>\n",
       "</table>\n",
       "</div>"
      ],
      "text/plain": [
       "     Year        Author                                               Name\n",
       "320  2010  Gary Chapman  The 5 Love Languages: The Secret to Love That ...\n",
       "321  2011  Gary Chapman  The 5 Love Languages: The Secret to Love That ...\n",
       "322  2012  Gary Chapman  The 5 Love Languages: The Secret to Love That ...\n",
       "323  2013  Gary Chapman  The 5 Love Languages: The Secret to Love That ...\n",
       "324  2014  Gary Chapman  The 5 Love Languages: The Secret to Love That ...\n",
       "325  2015  Gary Chapman  The 5 Love Languages: The Secret to Love that ...\n",
       "326  2016  Gary Chapman  The 5 Love Languages: The Secret to Love that ...\n",
       "327  2017  Gary Chapman  The 5 Love Languages: The Secret to Love that ...\n",
       "328  2018  Gary Chapman  The 5 Love Languages: The Secret to Love that ...\n",
       "329  2019  Gary Chapman  The 5 Love Languages: The Secret to Love that ...\n",
       "374  2009  Gary Chapman  The Five Love Languages: How to Express Heartf..."
      ]
     },
     "execution_count": 11,
     "metadata": {},
     "output_type": "execute_result"
    }
   ],
   "source": [
    "df[['Year', 'Author', 'Name']].loc[df['Author']=='Gary Chapman']"
   ]
  },
  {
   "cell_type": "code",
   "execution_count": 12,
   "metadata": {},
   "outputs": [
    {
     "data": {
      "text/html": [
       "<div>\n",
       "<style scoped>\n",
       "    .dataframe tbody tr th:only-of-type {\n",
       "        vertical-align: middle;\n",
       "    }\n",
       "\n",
       "    .dataframe tbody tr th {\n",
       "        vertical-align: top;\n",
       "    }\n",
       "\n",
       "    .dataframe thead th {\n",
       "        text-align: right;\n",
       "    }\n",
       "</style>\n",
       "<table border=\"1\" class=\"dataframe\">\n",
       "  <thead>\n",
       "    <tr style=\"text-align: right;\">\n",
       "      <th></th>\n",
       "      <th>Year</th>\n",
       "      <th>Author</th>\n",
       "      <th>Name</th>\n",
       "    </tr>\n",
       "  </thead>\n",
       "  <tbody>\n",
       "    <tr>\n",
       "      <th>46</th>\n",
       "      <td>2010</td>\n",
       "      <td>Suzanne Collins</td>\n",
       "      <td>Catching Fire (The Hunger Games)</td>\n",
       "    </tr>\n",
       "    <tr>\n",
       "      <th>47</th>\n",
       "      <td>2011</td>\n",
       "      <td>Suzanne Collins</td>\n",
       "      <td>Catching Fire (The Hunger Games)</td>\n",
       "    </tr>\n",
       "    <tr>\n",
       "      <th>48</th>\n",
       "      <td>2012</td>\n",
       "      <td>Suzanne Collins</td>\n",
       "      <td>Catching Fire (The Hunger Games)</td>\n",
       "    </tr>\n",
       "    <tr>\n",
       "      <th>236</th>\n",
       "      <td>2010</td>\n",
       "      <td>Suzanne Collins</td>\n",
       "      <td>Mockingjay (The Hunger Games)</td>\n",
       "    </tr>\n",
       "    <tr>\n",
       "      <th>237</th>\n",
       "      <td>2011</td>\n",
       "      <td>Suzanne Collins</td>\n",
       "      <td>Mockingjay (The Hunger Games)</td>\n",
       "    </tr>\n",
       "    <tr>\n",
       "      <th>238</th>\n",
       "      <td>2012</td>\n",
       "      <td>Suzanne Collins</td>\n",
       "      <td>Mockingjay (The Hunger Games)</td>\n",
       "    </tr>\n",
       "    <tr>\n",
       "      <th>407</th>\n",
       "      <td>2010</td>\n",
       "      <td>Suzanne Collins</td>\n",
       "      <td>The Hunger Games</td>\n",
       "    </tr>\n",
       "    <tr>\n",
       "      <th>408</th>\n",
       "      <td>2011</td>\n",
       "      <td>Suzanne Collins</td>\n",
       "      <td>The Hunger Games (Book 1)</td>\n",
       "    </tr>\n",
       "    <tr>\n",
       "      <th>409</th>\n",
       "      <td>2012</td>\n",
       "      <td>Suzanne Collins</td>\n",
       "      <td>The Hunger Games (Book 1)</td>\n",
       "    </tr>\n",
       "    <tr>\n",
       "      <th>410</th>\n",
       "      <td>2011</td>\n",
       "      <td>Suzanne Collins</td>\n",
       "      <td>The Hunger Games Trilogy Boxed Set (1)</td>\n",
       "    </tr>\n",
       "    <tr>\n",
       "      <th>411</th>\n",
       "      <td>2012</td>\n",
       "      <td>Suzanne Collins</td>\n",
       "      <td>The Hunger Games Trilogy Boxed Set (1)</td>\n",
       "    </tr>\n",
       "  </tbody>\n",
       "</table>\n",
       "</div>"
      ],
      "text/plain": [
       "     Year           Author                                    Name\n",
       "46   2010  Suzanne Collins        Catching Fire (The Hunger Games)\n",
       "47   2011  Suzanne Collins        Catching Fire (The Hunger Games)\n",
       "48   2012  Suzanne Collins        Catching Fire (The Hunger Games)\n",
       "236  2010  Suzanne Collins           Mockingjay (The Hunger Games)\n",
       "237  2011  Suzanne Collins           Mockingjay (The Hunger Games)\n",
       "238  2012  Suzanne Collins           Mockingjay (The Hunger Games)\n",
       "407  2010  Suzanne Collins                        The Hunger Games\n",
       "408  2011  Suzanne Collins               The Hunger Games (Book 1)\n",
       "409  2012  Suzanne Collins               The Hunger Games (Book 1)\n",
       "410  2011  Suzanne Collins  The Hunger Games Trilogy Boxed Set (1)\n",
       "411  2012  Suzanne Collins  The Hunger Games Trilogy Boxed Set (1)"
      ]
     },
     "execution_count": 12,
     "metadata": {},
     "output_type": "execute_result"
    }
   ],
   "source": [
    "df[['Year', 'Author', 'Name']].loc[df['Author']=='Suzanne Collins']"
   ]
  },
  {
   "cell_type": "code",
   "execution_count": 13,
   "metadata": {},
   "outputs": [
    {
     "data": {
      "text/html": [
       "<div>\n",
       "<style scoped>\n",
       "    .dataframe tbody tr th:only-of-type {\n",
       "        vertical-align: middle;\n",
       "    }\n",
       "\n",
       "    .dataframe tbody tr th {\n",
       "        vertical-align: top;\n",
       "    }\n",
       "\n",
       "    .dataframe thead th {\n",
       "        text-align: right;\n",
       "    }\n",
       "</style>\n",
       "<table border=\"1\" class=\"dataframe\">\n",
       "  <thead>\n",
       "    <tr style=\"text-align: right;\">\n",
       "      <th></th>\n",
       "      <th>Year</th>\n",
       "      <th>Author</th>\n",
       "      <th>Name</th>\n",
       "    </tr>\n",
       "  </thead>\n",
       "  <tbody>\n",
       "    <tr>\n",
       "      <th>264</th>\n",
       "      <td>2010</td>\n",
       "      <td>Rick Riordan</td>\n",
       "      <td>Percy Jackson and the Olympians Paperback Boxe...</td>\n",
       "    </tr>\n",
       "    <tr>\n",
       "      <th>343</th>\n",
       "      <td>2014</td>\n",
       "      <td>Rick Riordan</td>\n",
       "      <td>The Blood of Olympus (The Heroes of Olympus (5))</td>\n",
       "    </tr>\n",
       "    <tr>\n",
       "      <th>406</th>\n",
       "      <td>2013</td>\n",
       "      <td>Rick Riordan</td>\n",
       "      <td>The House of Hades (Heroes of Olympus, Book 4)</td>\n",
       "    </tr>\n",
       "    <tr>\n",
       "      <th>418</th>\n",
       "      <td>2009</td>\n",
       "      <td>Rick Riordan</td>\n",
       "      <td>The Last Olympian (Percy Jackson and the Olymp...</td>\n",
       "    </tr>\n",
       "    <tr>\n",
       "      <th>419</th>\n",
       "      <td>2010</td>\n",
       "      <td>Rick Riordan</td>\n",
       "      <td>The Last Olympian (Percy Jackson and the Olymp...</td>\n",
       "    </tr>\n",
       "    <tr>\n",
       "      <th>428</th>\n",
       "      <td>2010</td>\n",
       "      <td>Rick Riordan</td>\n",
       "      <td>The Lost Hero (Heroes of Olympus, Book 1)</td>\n",
       "    </tr>\n",
       "    <tr>\n",
       "      <th>432</th>\n",
       "      <td>2012</td>\n",
       "      <td>Rick Riordan</td>\n",
       "      <td>The Mark of Athena (Heroes of Olympus, Book 3)</td>\n",
       "    </tr>\n",
       "    <tr>\n",
       "      <th>456</th>\n",
       "      <td>2010</td>\n",
       "      <td>Rick Riordan</td>\n",
       "      <td>The Red Pyramid (The Kane Chronicles, Book 1)</td>\n",
       "    </tr>\n",
       "    <tr>\n",
       "      <th>458</th>\n",
       "      <td>2012</td>\n",
       "      <td>Rick Riordan</td>\n",
       "      <td>The Serpent's Shadow (The Kane Chronicles, Boo...</td>\n",
       "    </tr>\n",
       "    <tr>\n",
       "      <th>463</th>\n",
       "      <td>2011</td>\n",
       "      <td>Rick Riordan</td>\n",
       "      <td>The Son of Neptune (Heroes of Olympus, Book 2)</td>\n",
       "    </tr>\n",
       "    <tr>\n",
       "      <th>469</th>\n",
       "      <td>2011</td>\n",
       "      <td>Rick Riordan</td>\n",
       "      <td>The Throne of Fire (The Kane Chronicles, Book 2)</td>\n",
       "    </tr>\n",
       "  </tbody>\n",
       "</table>\n",
       "</div>"
      ],
      "text/plain": [
       "     Year        Author                                               Name\n",
       "264  2010  Rick Riordan  Percy Jackson and the Olympians Paperback Boxe...\n",
       "343  2014  Rick Riordan   The Blood of Olympus (The Heroes of Olympus (5))\n",
       "406  2013  Rick Riordan     The House of Hades (Heroes of Olympus, Book 4)\n",
       "418  2009  Rick Riordan  The Last Olympian (Percy Jackson and the Olymp...\n",
       "419  2010  Rick Riordan  The Last Olympian (Percy Jackson and the Olymp...\n",
       "428  2010  Rick Riordan          The Lost Hero (Heroes of Olympus, Book 1)\n",
       "432  2012  Rick Riordan     The Mark of Athena (Heroes of Olympus, Book 3)\n",
       "456  2010  Rick Riordan      The Red Pyramid (The Kane Chronicles, Book 1)\n",
       "458  2012  Rick Riordan  The Serpent's Shadow (The Kane Chronicles, Boo...\n",
       "463  2011  Rick Riordan     The Son of Neptune (Heroes of Olympus, Book 2)\n",
       "469  2011  Rick Riordan   The Throne of Fire (The Kane Chronicles, Book 2)"
      ]
     },
     "execution_count": 13,
     "metadata": {},
     "output_type": "execute_result"
    }
   ],
   "source": [
    "df[['Year', 'Author', 'Name']].loc[df['Author']=='Rick Riordan']"
   ]
  },
  {
   "cell_type": "markdown",
   "metadata": {},
   "source": [
    "### 작가별, 리뷰수별"
   ]
  },
  {
   "cell_type": "code",
   "execution_count": 11,
   "metadata": {},
   "outputs": [
    {
     "data": {
      "image/png": "[encoded data removed]",
      "text/plain": [
       "<Figure size 1008x504 with 2 Axes>"
      ]
     },
     "metadata": {
      "needs_background": "light"
     },
     "output_type": "display_data"
    }
   ],
   "source": [
    "plt.figure(figsize=(17, 10))\n",
    "\n",
    "# 리뷰수가 많은 작가들\n",
    "plt.subplot(121)\n",
    "df.groupby('Author').mean()['Reviews'].sort_values(ascending=False).head(20).plot(kind='barh', color='purple', alpha=0.4, figsize=(14, 7))\n",
    "\n",
    "# 베스트셀러에 자주 올라오는 작가들\n",
    "plt.subplot(122)\n",
    "df.groupby('Author').count().sort_values(by='Name', ascending=False)['Name'].head(20).plot(kind='barh', figsize=(14, 7), color='green', alpha=0.6)\n",
    "\n",
    "plt.show()"
   ]
  },
  {
   "cell_type": "markdown",
   "metadata": {},
   "source": [
    "공통된 작가도 있지만 아닌 경우가 대부분."
   ]
  },
  {
   "cell_type": "markdown",
   "metadata": {},
   "source": [
    "### 전체 데이터에서의 리뷰수와 베스트셀러에 등재된 작가의 리뷰수"
   ]
  },
  {
   "cell_type": "code",
   "execution_count": 41,
   "metadata": {},
   "outputs": [],
   "source": [
    "top_list = df.groupby('Author').count().sort_values(by='Name', ascending=False)['Name'].head(20).index\n",
    "t_list=['Jeff Kinney', 'Gary Chapman', 'Suzanne Collins', 'Rick Riordan',\n",
    "       'American Psychological Association', 'Gallup', 'Dr. Seuss',\n",
    "       'Rob Elliott', 'Eric Carle',  'Dav Pilkey',\n",
    "       'Stephen R. Covey', 'Stephenie Meyer', 'J.K. Rowling', 'Sarah Young',\n",
    "       'Don Miguel Ruiz', 'Stieg Larsson', 'The College Board', 'E L James',\n",
    "       'Harper Lee']\n",
    "t_list = pd.DataFrame(t_list)\n",
    "t_list.columns=['Author']\n",
    "top_list = pd.merge(t_list, df, on='Author', how='left')\n",
    "\n",
    "non_top_list = df.groupby('Author').count().sort_values(by='Name', ascending=False)['Name'].tail(228).index\n",
    "non_list = [row for row in df['Author'] if row not in t_list]\n",
    "non_list = pd.DataFrame(non_list, columns=['Author'])\n",
    "non_top_list = pd.merge(non_list, df, on='Author', how='left')"
   ]
  },
  {
   "cell_type": "code",
   "execution_count": 33,
   "metadata": {},
   "outputs": [
    {
     "data": {
      "text/plain": [
       "Index(['Todd Burpo', 'Tony Hsieh', 'Tucker Carlson', 'Veronica Roth',\n",
       "       'W. Cleon Skousen', 'Walter Isaacson', 'William Davis',\n",
       "       'William P. Young', 'Wizards RPG Team', 'Zhi Gang Sha'],\n",
       "      dtype='object', name='Author')"
      ]
     },
     "execution_count": 33,
     "metadata": {},
     "output_type": "execute_result"
    }
   ],
   "source": [
    "non_top_list = df.groupby('Author').count().sort_values(by='Name', ascending=False)['Name'].tail(10).index\n",
    "non_top_list"
   ]
  },
  {
   "cell_type": "markdown",
   "metadata": {},
   "source": [
    "평점 차이"
   ]
  },
  {
   "cell_type": "code",
   "execution_count": 15,
   "metadata": {
    "scrolled": true
   },
   "outputs": [
    {
     "data": {
      "image/png": "[encoded data removed]",
      "text/plain": [
       "<Figure size 720x360 with 1 Axes>"
      ]
     },
     "metadata": {
      "needs_background": "light"
     },
     "output_type": "display_data"
    }
   ],
   "source": [
    "plt.figure(figsize=(10, 5))\n",
    "\n",
    "df[df['Reviews']>40000]['User Rating'].plot(kind='kde', label='more than 40000', color='red')\n",
    "df['User Rating'].plot(kind='kde', label='total')\n",
    "top_list['User Rating'].plot(kind='kde', label='top_list', color='green')\n",
    "plt.legend()\n",
    "plt.show()"
   ]
  },
  {
   "cell_type": "code",
   "execution_count": 16,
   "metadata": {},
   "outputs": [
    {
     "data": {
      "text/plain": [
       "<matplotlib.axes._subplots.AxesSubplot at 0x233da4c0518>"
      ]
     },
     "execution_count": 16,
     "metadata": {},
     "output_type": "execute_result"
    },
    {
     "data": {
      "image/png": "[encoded data removed]",
      "text/plain": [
       "<Figure size 432x288 with 2 Axes>"
      ]
     },
     "metadata": {
      "needs_background": "light"
     },
     "output_type": "display_data"
    }
   ],
   "source": [
    "import seaborn as sns\n",
    "\n",
    "sns.heatmap(df.corr(), annot=True)"
   ]
  },
  {
   "cell_type": "markdown",
   "metadata": {},
   "source": [
    "### 2014년 Fiction과 Non Fiction으로 분류해 비교"
   ]
  },
  {
   "cell_type": "code",
   "execution_count": 17,
   "metadata": {},
   "outputs": [
    {
     "data": {
      "text/plain": [
       "<matplotlib.axes._subplots.AxesSubplot at 0x233da41ef98>"
      ]
     },
     "execution_count": 17,
     "metadata": {},
     "output_type": "execute_result"
    },
    {
     "data": {
      "image/png": "[encoded data removed]",
      "text/plain": [
       "<Figure size 1080x504 with 2 Axes>"
      ]
     },
     "metadata": {
      "needs_background": "light"
     },
     "output_type": "display_data"
    }
   ],
   "source": [
    "year_2014 = df[['Year', 'User Rating', 'Genre', 'Reviews']].loc[df['Year']==2014]\n",
    "\n",
    "plt.figure(figsize=(15, 7))\n",
    "\n",
    "plt.subplot(121)\n",
    "year_2014[year_2014['Genre']=='Fiction']['User Rating'].plot(kind='kde', label='fiction')\n",
    "year_2014[year_2014['Genre']=='Non Fiction']['User Rating'].plot(kind='kde', label='non fiction')\n",
    "\n",
    "plt.subplot(122)\n",
    "year_2014[year_2014['Genre']=='Fiction']['Reviews'].plot(kind='hist', label='fiction', color='blue', alpha=0.5)\n",
    "year_2014[year_2014['Genre']=='Non Fiction']['Reviews'].plot(kind='hist', label='non fiction', color='orange', alpha=0.5)"
   ]
  },
  {
   "cell_type": "markdown",
   "metadata": {},
   "source": [
    "Fiction의 별점과 리뷰수가 더 많다."
   ]
  },
  {
   "cell_type": "code",
   "execution_count": 18,
   "metadata": {},
   "outputs": [
    {
     "data": {
      "text/plain": [
       "Text(0.5, 1.0, 'Fiction & Non-Fiction rating')"
      ]
     },
     "execution_count": 18,
     "metadata": {},
     "output_type": "execute_result"
    },
    {
     "data": {
      "image/png": "[encoded data removed]",
      "text/plain": [
       "<Figure size 1080x504 with 1 Axes>"
      ]
     },
     "metadata": {
      "needs_background": "light"
     },
     "output_type": "display_data"
    }
   ],
   "source": [
    "plt.figure(figsize=(15, 7))\n",
    "sns.violinplot(x='Year', y='User Rating', data=df, hue='Genre', split=True)\n",
    "plt.title('Fiction & Non-Fiction rating')"
   ]
  },
  {
   "cell_type": "markdown",
   "metadata": {},
   "source": [
    "전반적으로 전체 년도에 걸쳐 픽션의 평점이 다소 높음."
   ]
  },
  {
   "cell_type": "code",
   "execution_count": 92,
   "metadata": {},
   "outputs": [
    {
     "data": {
      "text/plain": [
       "<matplotlib.axes._subplots.AxesSubplot at 0x233df387ba8>"
      ]
     },
     "execution_count": 92,
     "metadata": {},
     "output_type": "execute_result"
    },
    {
     "data": {
      "image/png": "[encoded data removed]",
      "text/plain": [
       "<Figure size 720x360 with 1 Axes>"
      ]
     },
     "metadata": {
      "needs_background": "light"
     },
     "output_type": "display_data"
    }
   ],
   "source": [
    "top_list_df = pd.DataFrame(top_list.groupby(['Author']).count()['Name'])\n",
    "top_list_df.rename(columns={'Name' : 'Count'}, inplace=True)\n",
    "df_2 = df[['Author', 'Name', 'Genre']]\n",
    "top_list_df = pd.merge(top_list_df, df_2, on='Author', how='left')\n",
    "top_list_df\n",
    "\n",
    "plt.figure(figsize=(10, 5))\n",
    "sns.barplot(x='Count', y='Author', data=top_list_df, hue='Genre', alpha=0.5)"
   ]
  },
  {
   "cell_type": "markdown",
   "metadata": {},
   "source": [
    "베스트셀러에 6회 이상 선정된 작가들의 작품만 추려보면 Non Fiction보다 Fiction의 수가 더 많이 나타남."
   ]
  },
  {
   "cell_type": "code",
   "execution_count": 172,
   "metadata": {},
   "outputs": [
    {
     "data": {
      "text/plain": [
       "Text(0.5, 1.0, 'Non Top Author')"
      ]
     },
     "execution_count": 172,
     "metadata": {},
     "output_type": "execute_result"
    },
    {
     "data": {
      "image/png": "[encoded data removed]",
      "text/plain": [
       "<Figure size 1080x504 with 2 Axes>"
      ]
     },
     "metadata": {
      "needs_background": "light"
     },
     "output_type": "display_data"
    }
   ],
   "source": [
    "plt.figure(figsize=(15, 7))\n",
    "\n",
    "# 6회 이상 베스트셀러에 선정된 작가들\n",
    "plt.subplot(121)\n",
    "sns.barplot(x='Year', y='Name', data=pd.DataFrame(top_list.groupby(['Genre', 'Year']).count()).reset_index(), hue='Genre', alpha=0.8)\n",
    "plt.title('Top Author')\n",
    "\n",
    "# 6회 미만 베스트셀러에 선정된 작가들\n",
    "plt.subplot(122)\n",
    "sns.barplot(x='Year', y='Name', data=pd.DataFrame(df.groupby(['Genre', 'Year']).count().tail(228)).reset_index(), hue='Genre', alpha=0.8)\n",
    "plt.title('Non Top Author')"
   ]
  },
  {
   "cell_type": "markdown",
   "metadata": {},
   "source": [
    "top 작가들은 fiction 우세, top 작가가 아닌 작가들은 non fiction이 우세\n",
    "\n",
    "결과)\n",
    "\n",
    "인기있는 작가들의 작품은 Fiction이 많고 이 작품들에 대해서는 리뷰와 별점이 높지만 몇몇 작가들의 작품을 제외한 나머지는 Non Fiction이 많다.\n",
    "\n",
    "2014년은 유명 작가들의 Fiction수가 적음에도 불구하고 그 외에 Fiction 작품 수가 많았기 때문에 2014년에서 Fiction이 Non Fiction보다 우세했다고 판단."
   ]
  },
  {
   "cell_type": "markdown",
   "metadata": {},
   "source": [
    "### 가격"
   ]
  },
  {
   "cell_type": "code",
   "execution_count": 100,
   "metadata": {},
   "outputs": [
    {
     "data": {
      "text/plain": [
       "<matplotlib.axes._subplots.AxesSubplot at 0x233dfa6a710>"
      ]
     },
     "execution_count": 100,
     "metadata": {},
     "output_type": "execute_result"
    },
    {
     "data": {
      "image/png": "[encoded data removed]",
      "text/plain": [
       "<Figure size 432x288 with 1 Axes>"
      ]
     },
     "metadata": {
      "needs_background": "light"
     },
     "output_type": "display_data"
    }
   ],
   "source": [
    "sns.distplot(df['Price'], bins=10)"
   ]
  },
  {
   "cell_type": "markdown",
   "metadata": {},
   "source": [
    "## 책 제목으로 작가 예측\n",
    "\n",
    "### 데이터 전처리"
   ]
  },
  {
   "cell_type": "code",
   "execution_count": 3,
   "metadata": {},
   "outputs": [],
   "source": [
    "import nltk\n",
    "from nltk.tokenize import word_tokenize\n",
    "from nltk.corpus import stopwords\n",
    "from nltk.tokenize import RegexpTokenizer\n",
    "from nltk.stem.porter import PorterStemmer\n",
    "import re"
   ]
  },
  {
   "cell_type": "code",
   "execution_count": 4,
   "metadata": {},
   "outputs": [],
   "source": [
    "tokenizer = RegexpTokenizer(\"[\\w']{2,}\")\n",
    "english_stops = set(stopwords.words(\"english\"))"
   ]
  },
  {
   "cell_type": "code",
   "execution_count": 5,
   "metadata": {},
   "outputs": [],
   "source": [
    "def tokenize_result(doc):\n",
    "    reg_tokens = tokenizer.tokenize(doc.lower())\n",
    "    result = [word for word in reg_tokens if word not in english_stops and word != \"'the\"]\n",
    "    return result\n",
    "\n",
    "def dic_result(text):\n",
    "    word_count = dict()\n",
    "    for word in text:\n",
    "        word_count[word] = word_count.get(word, 0) + 1\n",
    "    return word_count"
   ]
  },
  {
   "cell_type": "markdown",
   "metadata": {},
   "source": [
    "### 전제 제목에 대한 워드클라우드 - 어떤 단어를 가장 많이 사용하는지?\n",
    "#### 데이터 정의"
   ]
  },
  {
   "cell_type": "code",
   "execution_count": 6,
   "metadata": {},
   "outputs": [],
   "source": [
    "import pandas as pd\n",
    "import numpy as np\n",
    "\n",
    "df_name = str(np.array(df['Name'].tolist()))"
   ]
  },
  {
   "cell_type": "markdown",
   "metadata": {},
   "source": [
    "#### 워드클라우드 그리기"
   ]
  },
  {
   "cell_type": "code",
   "execution_count": 106,
   "metadata": {},
   "outputs": [
    {
     "data": {
      "image/png": "[encoded data removed]",
      "text/plain": [
       "<Figure size 432x288 with 1 Axes>"
      ]
     },
     "metadata": {
      "needs_background": "light"
     },
     "output_type": "display_data"
    }
   ],
   "source": [
    "result = tokenize_result(df_name)\n",
    "count = dic_result(result)\n",
    "\n",
    "from wordcloud import WordCloud\n",
    "import matplotlib.pyplot as plt\n",
    "\n",
    "wordcloud = WordCloud(background_color='white',\n",
    "                      max_words=30).generate_from_frequencies(count)\n",
    "\n",
    "plt.figure()\n",
    "plt.axis(\"off\")\n",
    "plt.imshow(wordcloud, interpolation='bilinear')\n",
    "plt.show()"
   ]
  },
  {
   "cell_type": "markdown",
   "metadata": {},
   "source": [
    "### 작가별 제목의 워드클라우드\n",
    "\n",
    "#### 데이터 추출"
   ]
  },
  {
   "cell_type": "code",
   "execution_count": 107,
   "metadata": {},
   "outputs": [],
   "source": [
    "JK = df[['Name']].loc[df['Author']=='Jeff Kinney']\n",
    "GC = df[['Name']].loc[df['Author']=='Gary Chapman']\n",
    "SC = df[['Name']].loc[df['Author']=='Suzanne Collins']\n",
    "RR = df[['Name']].loc[df['Author']=='Rick Riordan']"
   ]
  },
  {
   "cell_type": "code",
   "execution_count": 108,
   "metadata": {},
   "outputs": [],
   "source": [
    "df_JK = str(np.array(JK['Name'].tolist()))\n",
    "df_GC = str(np.array(GC['Name'].tolist()))\n",
    "df_SC = str(np.array(SC['Name'].tolist()))\n",
    "df_RR = str(np.array(RR['Name'].tolist()))"
   ]
  },
  {
   "cell_type": "markdown",
   "metadata": {},
   "source": [
    "#### 작가 : Jeff Kinney"
   ]
  },
  {
   "cell_type": "code",
   "execution_count": 109,
   "metadata": {},
   "outputs": [
    {
     "data": {
      "image/png": "[encoded data removed]",
      "text/plain": [
       "<Figure size 432x288 with 1 Axes>"
      ]
     },
     "metadata": {
      "needs_background": "light"
     },
     "output_type": "display_data"
    }
   ],
   "source": [
    "result_JK = tokenize_result(df_JK)\n",
    "count_JK = dic_result(result_JK)\n",
    "\n",
    "wordcloud = WordCloud(background_color=\"white\").generate_from_frequencies(count_JK)\n",
    "\n",
    "plt.figure()\n",
    "plt.axis(\"off\")\n",
    "plt.imshow(wordcloud, interpolation=\"bilinear\")\n",
    "plt.show()"
   ]
  },
  {
   "cell_type": "markdown",
   "metadata": {},
   "source": [
    "#### 작가 : Gary Champman"
   ]
  },
  {
   "cell_type": "code",
   "execution_count": 110,
   "metadata": {},
   "outputs": [
    {
     "data": {
      "image/png": "[encoded data removed]",
      "text/plain": [
       "<Figure size 432x288 with 1 Axes>"
      ]
     },
     "metadata": {
      "needs_background": "light"
     },
     "output_type": "display_data"
    }
   ],
   "source": [
    "result_GC = tokenize_result(df_GC)\n",
    "count_GC = dic_result(result_GC)\n",
    "\n",
    "wordcloud = WordCloud(background_color=\"white\").generate_from_frequencies(count_GC)\n",
    "\n",
    "plt.figure()\n",
    "plt.axis(\"off\")\n",
    "plt.imshow(wordcloud, interpolation=\"bilinear\")\n",
    "plt.show()"
   ]
  },
  {
   "cell_type": "markdown",
   "metadata": {},
   "source": [
    "#### 작가  : Suzanne Collins"
   ]
  },
  {
   "cell_type": "code",
   "execution_count": 111,
   "metadata": {},
   "outputs": [
    {
     "data": {
      "image/png": "[encoded data removed]",
      "text/plain": [
       "<Figure size 432x288 with 1 Axes>"
      ]
     },
     "metadata": {
      "needs_background": "light"
     },
     "output_type": "display_data"
    }
   ],
   "source": [
    "result_SC = tokenize_result(df_SC)\n",
    "count_SC = dic_result(result_SC)\n",
    "\n",
    "wordcloud = WordCloud(background_color=\"white\").generate_from_frequencies(count_SC)\n",
    "\n",
    "plt.figure()\n",
    "plt.axis(\"off\")\n",
    "plt.imshow(wordcloud, interpolation=\"bilinear\")\n",
    "plt.show()"
   ]
  },
  {
   "cell_type": "markdown",
   "metadata": {},
   "source": [
    "#### 작가 : Rick Riordan"
   ]
  },
  {
   "cell_type": "code",
   "execution_count": 112,
   "metadata": {},
   "outputs": [
    {
     "data": {
      "image/png": "[encoded data removed]",
      "text/plain": [
       "<Figure size 432x288 with 1 Axes>"
      ]
     },
     "metadata": {
      "needs_background": "light"
     },
     "output_type": "display_data"
    }
   ],
   "source": [
    "result_RR = tokenize_result(df_RR)\n",
    "count_RR = dic_result(result_RR)\n",
    "\n",
    "wordcloud = WordCloud(background_color=\"white\").generate_from_frequencies(count_RR)\n",
    "\n",
    "plt.figure()\n",
    "plt.axis(\"off\")\n",
    "plt.imshow(wordcloud, interpolation=\"bilinear\")\n",
    "plt.show()"
   ]
  },
  {
   "cell_type": "markdown",
   "metadata": {},
   "source": [
    "### Author  예측\n",
    "\n",
    "#### 데이터 분할"
   ]
  },
  {
   "cell_type": "code",
   "execution_count": 10,
   "metadata": {},
   "outputs": [
    {
     "name": "stdout",
     "output_type": "stream",
     "text": [
      "# Train set size :  440\n",
      "# Test set size :  110\n"
     ]
    }
   ],
   "source": [
    "from sklearn.model_selection import train_test_split\n",
    "\n",
    "x_train, x_test, y_train, y_test = train_test_split(df.Name, df.Author, test_size=0.2, random_state=1)\n",
    "\n",
    "print('# Train set size : ', len(x_train))\n",
    "print('# Test set size : ', len(x_test))"
   ]
  },
  {
   "cell_type": "markdown",
   "metadata": {},
   "source": [
    "#### 토크나이저 함수 정의"
   ]
  },
  {
   "cell_type": "code",
   "execution_count": 114,
   "metadata": {},
   "outputs": [],
   "source": [
    "from nltk.corpus import stopwords\n",
    "from nltk.tokenize import RegexpTokenizer\n",
    "from nltk.stem.porter import PorterStemmer\n",
    "import re"
   ]
  },
  {
   "cell_type": "code",
   "execution_count": 8,
   "metadata": {},
   "outputs": [],
   "source": [
    "RegTok = RegexpTokenizer(\"[\\w']{2,}\") \n",
    "\n",
    "stop_words = set(stopwords.words('english')) \n",
    "\n",
    "def tokenizer(text):\n",
    "    tokens = RegTok.tokenize(text.lower())\n",
    "    words = [word for word in tokens if (word not in stop_words) \n",
    "             and len(word) > 2] \n",
    "    features = (list(map(lambda token:PorterStemmer().stem(token), words)))\n",
    "    return features"
   ]
  },
  {
   "cell_type": "markdown",
   "metadata": {},
   "source": [
    "#### CountVector 기반 특성 추출\n",
    "\n",
    "CountVectorizer 정의"
   ]
  },
  {
   "cell_type": "code",
   "execution_count": 11,
   "metadata": {},
   "outputs": [],
   "source": [
    "from sklearn.feature_extraction.text import CountVectorizer\n",
    "\n",
    "cv = CountVectorizer(tokenizer=tokenizer).fit(x_train)\n",
    "\n",
    "x_train_cv = cv.fit_transform(x_train)\n",
    "x_test_cv = cv.transform(x_test)"
   ]
  },
  {
   "cell_type": "markdown",
   "metadata": {},
   "source": [
    "나이브 베이즈 분류기 적용"
   ]
  },
  {
   "cell_type": "code",
   "execution_count": 117,
   "metadata": {},
   "outputs": [
    {
     "name": "stdout",
     "output_type": "stream",
     "text": [
      "Train set score : 0.816\n",
      "Test set score : 0.500\n"
     ]
    }
   ],
   "source": [
    "from sklearn.naive_bayes import MultinomialNB\n",
    "\n",
    "nb = MultinomialNB()\n",
    "\n",
    "nb.fit(x_train_cv, y_train)\n",
    "\n",
    "print('Train set score : {:.3f}'.format(nb.score(x_train_cv, y_train)))\n",
    "print('Test set score : {:.3f}'.format(nb.score(x_test_cv, y_test)))"
   ]
  },
  {
   "cell_type": "markdown",
   "metadata": {},
   "source": [
    "릿지 회귀 적용"
   ]
  },
  {
   "cell_type": "code",
   "execution_count": 118,
   "metadata": {},
   "outputs": [
    {
     "name": "stdout",
     "output_type": "stream",
     "text": [
      "Train set score : 1.000\n",
      "Test set score : 0.636\n"
     ]
    }
   ],
   "source": [
    "from sklearn.linear_model import RidgeClassifier\n",
    "\n",
    "ridge = RidgeClassifier()\n",
    "\n",
    "ridge.fit(x_train_cv, y_train)\n",
    "\n",
    "print('Train set score : {:.3f}'.format(ridge.score(x_train_cv, y_train)))\n",
    "print('Test set score : {:.3f}'.format(ridge.score(x_test_cv, y_test)))"
   ]
  },
  {
   "cell_type": "markdown",
   "metadata": {},
   "source": [
    "로지스틱 회귀 적용"
   ]
  },
  {
   "cell_type": "code",
   "execution_count": 119,
   "metadata": {},
   "outputs": [
    {
     "name": "stdout",
     "output_type": "stream",
     "text": [
      "Train set score : 0.991\n",
      "Test set score : 0.609\n"
     ]
    }
   ],
   "source": [
    "from sklearn.linear_model import LogisticRegression\n",
    "\n",
    "logistic = LogisticRegression()\n",
    "\n",
    "logistic.fit(x_train_cv, y_train)\n",
    "\n",
    "print('Train set score : {:.3f}'.format(logistic.score(x_train_cv, y_train)))\n",
    "print('Test set score : {:.3f}'.format(logistic.score(x_test_cv, y_test)))"
   ]
  },
  {
   "cell_type": "markdown",
   "metadata": {},
   "source": [
    "라쏘 회귀 적용"
   ]
  },
  {
   "cell_type": "code",
   "execution_count": 120,
   "metadata": {},
   "outputs": [
    {
     "name": "stdout",
     "output_type": "stream",
     "text": [
      "Train set score : 0.709\n",
      "Test set score : 0.482\n"
     ]
    }
   ],
   "source": [
    "lasso = LogisticRegression(penalty='l1', solver='liblinear', C=1)\n",
    "\n",
    "lasso.fit(x_train_cv, y_train)\n",
    "\n",
    "print('Train set score : {:.3f}'.format(lasso.score(x_train_cv, y_train)))\n",
    "print('Test set score : {:.3f}'.format(lasso.score(x_test_cv, y_test)))"
   ]
  },
  {
   "cell_type": "markdown",
   "metadata": {},
   "source": [
    "**예측 결과**"
   ]
  },
  {
   "cell_type": "code",
   "execution_count": 121,
   "metadata": {},
   "outputs": [
    {
     "data": {
      "text/html": [
       "<div>\n",
       "<style scoped>\n",
       "    .dataframe tbody tr th:only-of-type {\n",
       "        vertical-align: middle;\n",
       "    }\n",
       "\n",
       "    .dataframe tbody tr th {\n",
       "        vertical-align: top;\n",
       "    }\n",
       "\n",
       "    .dataframe thead th {\n",
       "        text-align: right;\n",
       "    }\n",
       "</style>\n",
       "<table border=\"1\" class=\"dataframe\">\n",
       "  <thead>\n",
       "    <tr style=\"text-align: right;\">\n",
       "      <th></th>\n",
       "      <th>Name</th>\n",
       "      <th>Author</th>\n",
       "      <th>Prediction</th>\n",
       "    </tr>\n",
       "  </thead>\n",
       "  <tbody>\n",
       "    <tr>\n",
       "      <th>0</th>\n",
       "      <td>Have a Little Faith: A True Story</td>\n",
       "      <td>Mitch Albom</td>\n",
       "      <td>Edward M. Kennedy</td>\n",
       "    </tr>\n",
       "    <tr>\n",
       "      <th>1</th>\n",
       "      <td>StrengthsFinder 2.0</td>\n",
       "      <td>Gallup</td>\n",
       "      <td>Gallup</td>\n",
       "    </tr>\n",
       "    <tr>\n",
       "      <th>2</th>\n",
       "      <td>Dear Zoo: A Lift-the-Flap Book</td>\n",
       "      <td>Rod Campbell</td>\n",
       "      <td>Rod Campbell</td>\n",
       "    </tr>\n",
       "    <tr>\n",
       "      <th>3</th>\n",
       "      <td>The Life-Changing Magic of Tidying Up: The Jap...</td>\n",
       "      <td>Marie Kondō</td>\n",
       "      <td>Marie Kondō</td>\n",
       "    </tr>\n",
       "    <tr>\n",
       "      <th>4</th>\n",
       "      <td>Gone Girl</td>\n",
       "      <td>Gillian Flynn</td>\n",
       "      <td>Gillian Flynn</td>\n",
       "    </tr>\n",
       "    <tr>\n",
       "      <th>...</th>\n",
       "      <td>...</td>\n",
       "      <td>...</td>\n",
       "      <td>...</td>\n",
       "    </tr>\n",
       "    <tr>\n",
       "      <th>105</th>\n",
       "      <td>The Lost Hero (Heroes of Olympus, Book 1)</td>\n",
       "      <td>Rick Riordan</td>\n",
       "      <td>Rick Riordan</td>\n",
       "    </tr>\n",
       "    <tr>\n",
       "      <th>106</th>\n",
       "      <td>The Hunger Games (Book 1)</td>\n",
       "      <td>Suzanne Collins</td>\n",
       "      <td>Suzanne Collins</td>\n",
       "    </tr>\n",
       "    <tr>\n",
       "      <th>107</th>\n",
       "      <td>Adult Coloring Book: Stress Relieving Patterns</td>\n",
       "      <td>Blue Star Coloring</td>\n",
       "      <td>Blue Star Coloring</td>\n",
       "    </tr>\n",
       "    <tr>\n",
       "      <th>108</th>\n",
       "      <td>Oh, the Places You'll Go!</td>\n",
       "      <td>Dr. Seuss</td>\n",
       "      <td>Dr. Seuss</td>\n",
       "    </tr>\n",
       "    <tr>\n",
       "      <th>109</th>\n",
       "      <td>Giraffes Can't Dance</td>\n",
       "      <td>Giles Andreae</td>\n",
       "      <td>Giles Andreae</td>\n",
       "    </tr>\n",
       "  </tbody>\n",
       "</table>\n",
       "<p>110 rows × 3 columns</p>\n",
       "</div>"
      ],
      "text/plain": [
       "                                                  Name              Author  \\\n",
       "0                    Have a Little Faith: A True Story         Mitch Albom   \n",
       "1                                  StrengthsFinder 2.0              Gallup   \n",
       "2                       Dear Zoo: A Lift-the-Flap Book        Rod Campbell   \n",
       "3    The Life-Changing Magic of Tidying Up: The Jap...         Marie Kondō   \n",
       "4                                            Gone Girl       Gillian Flynn   \n",
       "..                                                 ...                 ...   \n",
       "105          The Lost Hero (Heroes of Olympus, Book 1)        Rick Riordan   \n",
       "106                          The Hunger Games (Book 1)     Suzanne Collins   \n",
       "107     Adult Coloring Book: Stress Relieving Patterns  Blue Star Coloring   \n",
       "108                          Oh, the Places You'll Go!           Dr. Seuss   \n",
       "109                               Giraffes Can't Dance       Giles Andreae   \n",
       "\n",
       "             Prediction  \n",
       "0     Edward M. Kennedy  \n",
       "1                Gallup  \n",
       "2          Rod Campbell  \n",
       "3           Marie Kondō  \n",
       "4         Gillian Flynn  \n",
       "..                  ...  \n",
       "105        Rick Riordan  \n",
       "106     Suzanne Collins  \n",
       "107  Blue Star Coloring  \n",
       "108           Dr. Seuss  \n",
       "109       Giles Andreae  \n",
       "\n",
       "[110 rows x 3 columns]"
      ]
     },
     "execution_count": 121,
     "metadata": {},
     "output_type": "execute_result"
    }
   ],
   "source": [
    "xy_cv = pd.concat([x_test, y_test], axis=1)\n",
    "xy_cv = xy_cv.reset_index(drop=True)\n",
    "\n",
    "pred_cv = pd.DataFrame(ridge.predict(x_test_cv), columns=['Prediction'])\n",
    "\n",
    "result_cv = pd.concat([xy_cv, pred_cv], axis=1)\n",
    "result_cv"
   ]
  },
  {
   "cell_type": "markdown",
   "metadata": {},
   "source": [
    "#### TfidfVector 기반 특성 추출\n"
   ]
  },
  {
   "cell_type": "markdown",
   "metadata": {},
   "source": [
    "TfidfVectorizer 정의"
   ]
  },
  {
   "cell_type": "code",
   "execution_count": 14,
   "metadata": {},
   "outputs": [],
   "source": [
    "from sklearn.feature_extraction.text import TfidfVectorizer\n",
    "\n",
    "tfidf = TfidfVectorizer(tokenizer=tokenizer).fit(x_train)\n",
    "\n",
    "x_train_tfidf = tfidf.fit_transform(x_train)\n",
    "x_test_tfidf = tfidf.transform(x_test)"
   ]
  },
  {
   "cell_type": "markdown",
   "metadata": {},
   "source": [
    "나이브 베이즈 분류기 적용"
   ]
  },
  {
   "cell_type": "code",
   "execution_count": 123,
   "metadata": {},
   "outputs": [
    {
     "name": "stdout",
     "output_type": "stream",
     "text": [
      "Train set score : 0.480\n",
      "Test set score : 0.345\n"
     ]
    }
   ],
   "source": [
    "from sklearn.naive_bayes import MultinomialNB\n",
    "\n",
    "nb = MultinomialNB()\n",
    "\n",
    "nb.fit(x_train_tfidf, y_train)\n",
    "\n",
    "print('Train set score : {:.3f}'.format(nb.score(x_train_tfidf, y_train)))\n",
    "print('Test set score : {:.3f}'.format(nb.score(x_test_tfidf, y_test)))"
   ]
  },
  {
   "cell_type": "markdown",
   "metadata": {},
   "source": [
    "릿지 회귀 적용"
   ]
  },
  {
   "cell_type": "code",
   "execution_count": 124,
   "metadata": {},
   "outputs": [
    {
     "name": "stdout",
     "output_type": "stream",
     "text": [
      "Train set score : 0.993\n",
      "Test set score : 0.618\n"
     ]
    }
   ],
   "source": [
    "from sklearn.linear_model import RidgeClassifier\n",
    "\n",
    "ridge = RidgeClassifier()\n",
    "\n",
    "ridge.fit(x_train_tfidf, y_train)\n",
    "\n",
    "print('Train set score : {:.3f}'.format(ridge.score(x_train_tfidf, y_train)))\n",
    "print('Test set score : {:.3f}'.format(ridge.score(x_test_tfidf, y_test)))"
   ]
  },
  {
   "cell_type": "markdown",
   "metadata": {},
   "source": [
    "로지스틱 회귀 적용"
   ]
  },
  {
   "cell_type": "code",
   "execution_count": 125,
   "metadata": {},
   "outputs": [
    {
     "name": "stdout",
     "output_type": "stream",
     "text": [
      "Train set score : 0.911\n",
      "Test set score : 0.527\n"
     ]
    }
   ],
   "source": [
    "from sklearn.linear_model import LogisticRegression\n",
    "\n",
    "logistic = LogisticRegression()\n",
    "\n",
    "logistic.fit(x_train_tfidf, y_train)\n",
    "\n",
    "print('Train set score : {:.3f}'.format(logistic.score(x_train_tfidf, y_train)))\n",
    "print('Test set score : {:.3f}'.format(logistic.score(x_test_tfidf, y_test)))"
   ]
  },
  {
   "cell_type": "markdown",
   "metadata": {},
   "source": [
    "라쏘 회귀 적용"
   ]
  },
  {
   "cell_type": "code",
   "execution_count": 126,
   "metadata": {},
   "outputs": [
    {
     "name": "stdout",
     "output_type": "stream",
     "text": [
      "Train set score : 0.545\n",
      "Test set score : 0.373\n"
     ]
    }
   ],
   "source": [
    "lasso = LogisticRegression(penalty='l1', solver='liblinear', C=1)\n",
    "\n",
    "lasso.fit(x_train_tfidf, y_train)\n",
    "\n",
    "print('Train set score : {:.3f}'.format(lasso.score(x_train_tfidf, y_train)))\n",
    "print('Test set score : {:.3f}'.format(lasso.score(x_test_tfidf, y_test)))"
   ]
  },
  {
   "cell_type": "code",
   "execution_count": null,
   "metadata": {},
   "outputs": [],
   "source": [
    "nb = MultinomialNB()\n",
    "\n",
    "nb.fit(x_train_tfidf, y_train)\n",
    "\n",
    "print('Train set score : {:.3f}'.format(nb.score(x_train_cv, y_train)))\n",
    "print('Test set score : {:.3f}'.format(nb.score(x_test_cv, y_test)))"
   ]
  },
  {
   "cell_type": "markdown",
   "metadata": {},
   "source": [
    "**예측 결과**"
   ]
  },
  {
   "cell_type": "code",
   "execution_count": 127,
   "metadata": {},
   "outputs": [
    {
     "data": {
      "text/html": [
       "<div>\n",
       "<style scoped>\n",
       "    .dataframe tbody tr th:only-of-type {\n",
       "        vertical-align: middle;\n",
       "    }\n",
       "\n",
       "    .dataframe tbody tr th {\n",
       "        vertical-align: top;\n",
       "    }\n",
       "\n",
       "    .dataframe thead th {\n",
       "        text-align: right;\n",
       "    }\n",
       "</style>\n",
       "<table border=\"1\" class=\"dataframe\">\n",
       "  <thead>\n",
       "    <tr style=\"text-align: right;\">\n",
       "      <th></th>\n",
       "      <th>Name</th>\n",
       "      <th>Author</th>\n",
       "      <th>Prediction</th>\n",
       "    </tr>\n",
       "  </thead>\n",
       "  <tbody>\n",
       "    <tr>\n",
       "      <th>0</th>\n",
       "      <td>Have a Little Faith: A True Story</td>\n",
       "      <td>Mitch Albom</td>\n",
       "      <td>David Platt</td>\n",
       "    </tr>\n",
       "    <tr>\n",
       "      <th>1</th>\n",
       "      <td>StrengthsFinder 2.0</td>\n",
       "      <td>Gallup</td>\n",
       "      <td>Gallup</td>\n",
       "    </tr>\n",
       "    <tr>\n",
       "      <th>2</th>\n",
       "      <td>Dear Zoo: A Lift-the-Flap Book</td>\n",
       "      <td>Rod Campbell</td>\n",
       "      <td>Rod Campbell</td>\n",
       "    </tr>\n",
       "    <tr>\n",
       "      <th>3</th>\n",
       "      <td>The Life-Changing Magic of Tidying Up: The Jap...</td>\n",
       "      <td>Marie Kondō</td>\n",
       "      <td>Marie Kondō</td>\n",
       "    </tr>\n",
       "    <tr>\n",
       "      <th>4</th>\n",
       "      <td>Gone Girl</td>\n",
       "      <td>Gillian Flynn</td>\n",
       "      <td>Gillian Flynn</td>\n",
       "    </tr>\n",
       "    <tr>\n",
       "      <th>...</th>\n",
       "      <td>...</td>\n",
       "      <td>...</td>\n",
       "      <td>...</td>\n",
       "    </tr>\n",
       "    <tr>\n",
       "      <th>105</th>\n",
       "      <td>The Lost Hero (Heroes of Olympus, Book 1)</td>\n",
       "      <td>Rick Riordan</td>\n",
       "      <td>Rick Riordan</td>\n",
       "    </tr>\n",
       "    <tr>\n",
       "      <th>106</th>\n",
       "      <td>The Hunger Games (Book 1)</td>\n",
       "      <td>Suzanne Collins</td>\n",
       "      <td>Suzanne Collins</td>\n",
       "    </tr>\n",
       "    <tr>\n",
       "      <th>107</th>\n",
       "      <td>Adult Coloring Book: Stress Relieving Patterns</td>\n",
       "      <td>Blue Star Coloring</td>\n",
       "      <td>Blue Star Coloring</td>\n",
       "    </tr>\n",
       "    <tr>\n",
       "      <th>108</th>\n",
       "      <td>Oh, the Places You'll Go!</td>\n",
       "      <td>Dr. Seuss</td>\n",
       "      <td>Dr. Seuss</td>\n",
       "    </tr>\n",
       "    <tr>\n",
       "      <th>109</th>\n",
       "      <td>Giraffes Can't Dance</td>\n",
       "      <td>Giles Andreae</td>\n",
       "      <td>Giles Andreae</td>\n",
       "    </tr>\n",
       "  </tbody>\n",
       "</table>\n",
       "<p>110 rows × 3 columns</p>\n",
       "</div>"
      ],
      "text/plain": [
       "                                                  Name              Author  \\\n",
       "0                    Have a Little Faith: A True Story         Mitch Albom   \n",
       "1                                  StrengthsFinder 2.0              Gallup   \n",
       "2                       Dear Zoo: A Lift-the-Flap Book        Rod Campbell   \n",
       "3    The Life-Changing Magic of Tidying Up: The Jap...         Marie Kondō   \n",
       "4                                            Gone Girl       Gillian Flynn   \n",
       "..                                                 ...                 ...   \n",
       "105          The Lost Hero (Heroes of Olympus, Book 1)        Rick Riordan   \n",
       "106                          The Hunger Games (Book 1)     Suzanne Collins   \n",
       "107     Adult Coloring Book: Stress Relieving Patterns  Blue Star Coloring   \n",
       "108                          Oh, the Places You'll Go!           Dr. Seuss   \n",
       "109                               Giraffes Can't Dance       Giles Andreae   \n",
       "\n",
       "             Prediction  \n",
       "0           David Platt  \n",
       "1                Gallup  \n",
       "2          Rod Campbell  \n",
       "3           Marie Kondō  \n",
       "4         Gillian Flynn  \n",
       "..                  ...  \n",
       "105        Rick Riordan  \n",
       "106     Suzanne Collins  \n",
       "107  Blue Star Coloring  \n",
       "108           Dr. Seuss  \n",
       "109       Giles Andreae  \n",
       "\n",
       "[110 rows x 3 columns]"
      ]
     },
     "execution_count": 127,
     "metadata": {},
     "output_type": "execute_result"
    }
   ],
   "source": [
    "xy_tfidf = pd.concat([x_test, y_test], axis=1)\n",
    "xy_tfidf = xy_tfidf.reset_index(drop=True)\n",
    "\n",
    "pred_tfidf = pd.DataFrame(ridge.predict(x_test_tfidf), columns=['Prediction'])\n",
    "\n",
    "result_tfidf = pd.concat([xy_tfidf, pred_tfidf], axis=1)\n",
    "result_tfidf"
   ]
  },
  {
   "cell_type": "markdown",
   "metadata": {},
   "source": [
    "### 최종 결과 비교\n",
    "\n",
    "#### CountVector 기반"
   ]
  },
  {
   "cell_type": "code",
   "execution_count": 128,
   "metadata": {},
   "outputs": [
    {
     "data": {
      "text/html": [
       "<div>\n",
       "<style scoped>\n",
       "    .dataframe tbody tr th:only-of-type {\n",
       "        vertical-align: middle;\n",
       "    }\n",
       "\n",
       "    .dataframe tbody tr th {\n",
       "        vertical-align: top;\n",
       "    }\n",
       "\n",
       "    .dataframe thead th {\n",
       "        text-align: right;\n",
       "    }\n",
       "</style>\n",
       "<table border=\"1\" class=\"dataframe\">\n",
       "  <thead>\n",
       "    <tr style=\"text-align: right;\">\n",
       "      <th></th>\n",
       "      <th>Name</th>\n",
       "      <th>Author</th>\n",
       "      <th>Prediction</th>\n",
       "    </tr>\n",
       "  </thead>\n",
       "  <tbody>\n",
       "    <tr>\n",
       "      <th>0</th>\n",
       "      <td>Have a Little Faith: A True Story</td>\n",
       "      <td>Mitch Albom</td>\n",
       "      <td>Edward M. Kennedy</td>\n",
       "    </tr>\n",
       "    <tr>\n",
       "      <th>1</th>\n",
       "      <td>StrengthsFinder 2.0</td>\n",
       "      <td>Gallup</td>\n",
       "      <td>Gallup</td>\n",
       "    </tr>\n",
       "    <tr>\n",
       "      <th>2</th>\n",
       "      <td>Dear Zoo: A Lift-the-Flap Book</td>\n",
       "      <td>Rod Campbell</td>\n",
       "      <td>Rod Campbell</td>\n",
       "    </tr>\n",
       "    <tr>\n",
       "      <th>3</th>\n",
       "      <td>The Life-Changing Magic of Tidying Up: The Jap...</td>\n",
       "      <td>Marie Kondō</td>\n",
       "      <td>Marie Kondō</td>\n",
       "    </tr>\n",
       "    <tr>\n",
       "      <th>4</th>\n",
       "      <td>Gone Girl</td>\n",
       "      <td>Gillian Flynn</td>\n",
       "      <td>Gillian Flynn</td>\n",
       "    </tr>\n",
       "    <tr>\n",
       "      <th>5</th>\n",
       "      <td>Last Week Tonight with John Oliver Presents A ...</td>\n",
       "      <td>Jill Twiss</td>\n",
       "      <td>Elizabeth Strout</td>\n",
       "    </tr>\n",
       "    <tr>\n",
       "      <th>6</th>\n",
       "      <td>StrengthsFinder 2.0</td>\n",
       "      <td>Gallup</td>\n",
       "      <td>Gallup</td>\n",
       "    </tr>\n",
       "    <tr>\n",
       "      <th>7</th>\n",
       "      <td>Secret Garden: An Inky Treasure Hunt and Color...</td>\n",
       "      <td>Johanna Basford</td>\n",
       "      <td>Marjorie Sarnat</td>\n",
       "    </tr>\n",
       "    <tr>\n",
       "      <th>8</th>\n",
       "      <td>Proof of Heaven: A Neurosurgeon's Journey into...</td>\n",
       "      <td>Eben Alexander</td>\n",
       "      <td>Eben Alexander</td>\n",
       "    </tr>\n",
       "    <tr>\n",
       "      <th>9</th>\n",
       "      <td>The Elegance of the Hedgehog</td>\n",
       "      <td>Muriel Barbery</td>\n",
       "      <td>John Grisham</td>\n",
       "    </tr>\n",
       "    <tr>\n",
       "      <th>10</th>\n",
       "      <td>The Short Second Life of Bree Tanner: An Eclip...</td>\n",
       "      <td>Stephenie Meyer</td>\n",
       "      <td>Stephenie Meyer</td>\n",
       "    </tr>\n",
       "    <tr>\n",
       "      <th>11</th>\n",
       "      <td>Where the Crawdads Sing</td>\n",
       "      <td>Delia Owens</td>\n",
       "      <td>John Grisham</td>\n",
       "    </tr>\n",
       "    <tr>\n",
       "      <th>12</th>\n",
       "      <td>Jesus Calling: Enjoying Peace in His Presence ...</td>\n",
       "      <td>Sarah Young</td>\n",
       "      <td>Sarah Young</td>\n",
       "    </tr>\n",
       "    <tr>\n",
       "      <th>13</th>\n",
       "      <td>Wheat Belly: Lose the Wheat, Lose the Weight, ...</td>\n",
       "      <td>William Davis</td>\n",
       "      <td>William Davis</td>\n",
       "    </tr>\n",
       "    <tr>\n",
       "      <th>14</th>\n",
       "      <td>Magnolia Table: A Collection of Recipes for Ga...</td>\n",
       "      <td>Joanna Gaines</td>\n",
       "      <td>Chip Gaines</td>\n",
       "    </tr>\n",
       "    <tr>\n",
       "      <th>15</th>\n",
       "      <td>Rush Revere and the First Patriots: Time-Trave...</td>\n",
       "      <td>Rush Limbaugh</td>\n",
       "      <td>Rush Limbaugh</td>\n",
       "    </tr>\n",
       "    <tr>\n",
       "      <th>16</th>\n",
       "      <td>The Martian</td>\n",
       "      <td>Andy Weir</td>\n",
       "      <td>John Grisham</td>\n",
       "    </tr>\n",
       "    <tr>\n",
       "      <th>17</th>\n",
       "      <td>Wild: From Lost to Found on the Pacific Crest ...</td>\n",
       "      <td>Cheryl Strayed</td>\n",
       "      <td>Dan Brown</td>\n",
       "    </tr>\n",
       "    <tr>\n",
       "      <th>18</th>\n",
       "      <td>Cravings: Recipes for All the Food You Want to...</td>\n",
       "      <td>Chrissy Teigen</td>\n",
       "      <td>David Zinczenko</td>\n",
       "    </tr>\n",
       "    <tr>\n",
       "      <th>19</th>\n",
       "      <td>Decision Points</td>\n",
       "      <td>George W. Bush</td>\n",
       "      <td>Malcolm Gladwell</td>\n",
       "    </tr>\n",
       "  </tbody>\n",
       "</table>\n",
       "</div>"
      ],
      "text/plain": [
       "                                                 Name           Author  \\\n",
       "0                   Have a Little Faith: A True Story      Mitch Albom   \n",
       "1                                 StrengthsFinder 2.0           Gallup   \n",
       "2                      Dear Zoo: A Lift-the-Flap Book     Rod Campbell   \n",
       "3   The Life-Changing Magic of Tidying Up: The Jap...      Marie Kondō   \n",
       "4                                           Gone Girl    Gillian Flynn   \n",
       "5   Last Week Tonight with John Oliver Presents A ...       Jill Twiss   \n",
       "6                                 StrengthsFinder 2.0           Gallup   \n",
       "7   Secret Garden: An Inky Treasure Hunt and Color...  Johanna Basford   \n",
       "8   Proof of Heaven: A Neurosurgeon's Journey into...   Eben Alexander   \n",
       "9                        The Elegance of the Hedgehog   Muriel Barbery   \n",
       "10  The Short Second Life of Bree Tanner: An Eclip...  Stephenie Meyer   \n",
       "11                            Where the Crawdads Sing      Delia Owens   \n",
       "12  Jesus Calling: Enjoying Peace in His Presence ...      Sarah Young   \n",
       "13  Wheat Belly: Lose the Wheat, Lose the Weight, ...    William Davis   \n",
       "14  Magnolia Table: A Collection of Recipes for Ga...    Joanna Gaines   \n",
       "15  Rush Revere and the First Patriots: Time-Trave...    Rush Limbaugh   \n",
       "16                                        The Martian        Andy Weir   \n",
       "17  Wild: From Lost to Found on the Pacific Crest ...   Cheryl Strayed   \n",
       "18  Cravings: Recipes for All the Food You Want to...   Chrissy Teigen   \n",
       "19                                    Decision Points   George W. Bush   \n",
       "\n",
       "           Prediction  \n",
       "0   Edward M. Kennedy  \n",
       "1              Gallup  \n",
       "2        Rod Campbell  \n",
       "3         Marie Kondō  \n",
       "4       Gillian Flynn  \n",
       "5    Elizabeth Strout  \n",
       "6              Gallup  \n",
       "7     Marjorie Sarnat  \n",
       "8      Eben Alexander  \n",
       "9        John Grisham  \n",
       "10    Stephenie Meyer  \n",
       "11       John Grisham  \n",
       "12        Sarah Young  \n",
       "13      William Davis  \n",
       "14        Chip Gaines  \n",
       "15      Rush Limbaugh  \n",
       "16       John Grisham  \n",
       "17          Dan Brown  \n",
       "18    David Zinczenko  \n",
       "19   Malcolm Gladwell  "
      ]
     },
     "execution_count": 128,
     "metadata": {},
     "output_type": "execute_result"
    }
   ],
   "source": [
    "result_cv[:20] # 정확도 0.636"
   ]
  },
  {
   "cell_type": "markdown",
   "metadata": {},
   "source": [
    "#### TfidfVector 기반"
   ]
  },
  {
   "cell_type": "code",
   "execution_count": 129,
   "metadata": {
    "scrolled": false
   },
   "outputs": [
    {
     "data": {
      "text/html": [
       "<div>\n",
       "<style scoped>\n",
       "    .dataframe tbody tr th:only-of-type {\n",
       "        vertical-align: middle;\n",
       "    }\n",
       "\n",
       "    .dataframe tbody tr th {\n",
       "        vertical-align: top;\n",
       "    }\n",
       "\n",
       "    .dataframe thead th {\n",
       "        text-align: right;\n",
       "    }\n",
       "</style>\n",
       "<table border=\"1\" class=\"dataframe\">\n",
       "  <thead>\n",
       "    <tr style=\"text-align: right;\">\n",
       "      <th></th>\n",
       "      <th>Name</th>\n",
       "      <th>Author</th>\n",
       "      <th>Prediction</th>\n",
       "    </tr>\n",
       "  </thead>\n",
       "  <tbody>\n",
       "    <tr>\n",
       "      <th>0</th>\n",
       "      <td>Have a Little Faith: A True Story</td>\n",
       "      <td>Mitch Albom</td>\n",
       "      <td>David Platt</td>\n",
       "    </tr>\n",
       "    <tr>\n",
       "      <th>1</th>\n",
       "      <td>StrengthsFinder 2.0</td>\n",
       "      <td>Gallup</td>\n",
       "      <td>Gallup</td>\n",
       "    </tr>\n",
       "    <tr>\n",
       "      <th>2</th>\n",
       "      <td>Dear Zoo: A Lift-the-Flap Book</td>\n",
       "      <td>Rod Campbell</td>\n",
       "      <td>Rod Campbell</td>\n",
       "    </tr>\n",
       "    <tr>\n",
       "      <th>3</th>\n",
       "      <td>The Life-Changing Magic of Tidying Up: The Jap...</td>\n",
       "      <td>Marie Kondō</td>\n",
       "      <td>Marie Kondō</td>\n",
       "    </tr>\n",
       "    <tr>\n",
       "      <th>4</th>\n",
       "      <td>Gone Girl</td>\n",
       "      <td>Gillian Flynn</td>\n",
       "      <td>Gillian Flynn</td>\n",
       "    </tr>\n",
       "    <tr>\n",
       "      <th>5</th>\n",
       "      <td>Last Week Tonight with John Oliver Presents A ...</td>\n",
       "      <td>Jill Twiss</td>\n",
       "      <td>Elizabeth Strout</td>\n",
       "    </tr>\n",
       "    <tr>\n",
       "      <th>6</th>\n",
       "      <td>StrengthsFinder 2.0</td>\n",
       "      <td>Gallup</td>\n",
       "      <td>Gallup</td>\n",
       "    </tr>\n",
       "    <tr>\n",
       "      <th>7</th>\n",
       "      <td>Secret Garden: An Inky Treasure Hunt and Color...</td>\n",
       "      <td>Johanna Basford</td>\n",
       "      <td>Marjorie Sarnat</td>\n",
       "    </tr>\n",
       "    <tr>\n",
       "      <th>8</th>\n",
       "      <td>Proof of Heaven: A Neurosurgeon's Journey into...</td>\n",
       "      <td>Eben Alexander</td>\n",
       "      <td>Eben Alexander</td>\n",
       "    </tr>\n",
       "    <tr>\n",
       "      <th>9</th>\n",
       "      <td>The Elegance of the Hedgehog</td>\n",
       "      <td>Muriel Barbery</td>\n",
       "      <td>Rick Riordan</td>\n",
       "    </tr>\n",
       "    <tr>\n",
       "      <th>10</th>\n",
       "      <td>The Short Second Life of Bree Tanner: An Eclip...</td>\n",
       "      <td>Stephenie Meyer</td>\n",
       "      <td>Stephenie Meyer</td>\n",
       "    </tr>\n",
       "    <tr>\n",
       "      <th>11</th>\n",
       "      <td>Where the Crawdads Sing</td>\n",
       "      <td>Delia Owens</td>\n",
       "      <td>Rick Riordan</td>\n",
       "    </tr>\n",
       "    <tr>\n",
       "      <th>12</th>\n",
       "      <td>Jesus Calling: Enjoying Peace in His Presence ...</td>\n",
       "      <td>Sarah Young</td>\n",
       "      <td>Sarah Young</td>\n",
       "    </tr>\n",
       "    <tr>\n",
       "      <th>13</th>\n",
       "      <td>Wheat Belly: Lose the Wheat, Lose the Weight, ...</td>\n",
       "      <td>William Davis</td>\n",
       "      <td>William Davis</td>\n",
       "    </tr>\n",
       "    <tr>\n",
       "      <th>14</th>\n",
       "      <td>Magnolia Table: A Collection of Recipes for Ga...</td>\n",
       "      <td>Joanna Gaines</td>\n",
       "      <td>Chip Gaines</td>\n",
       "    </tr>\n",
       "    <tr>\n",
       "      <th>15</th>\n",
       "      <td>Rush Revere and the First Patriots: Time-Trave...</td>\n",
       "      <td>Rush Limbaugh</td>\n",
       "      <td>Rush Limbaugh</td>\n",
       "    </tr>\n",
       "    <tr>\n",
       "      <th>16</th>\n",
       "      <td>The Martian</td>\n",
       "      <td>Andy Weir</td>\n",
       "      <td>Rick Riordan</td>\n",
       "    </tr>\n",
       "    <tr>\n",
       "      <th>17</th>\n",
       "      <td>Wild: From Lost to Found on the Pacific Crest ...</td>\n",
       "      <td>Cheryl Strayed</td>\n",
       "      <td>Dan Brown</td>\n",
       "    </tr>\n",
       "    <tr>\n",
       "      <th>18</th>\n",
       "      <td>Cravings: Recipes for All the Food You Want to...</td>\n",
       "      <td>Chrissy Teigen</td>\n",
       "      <td>Thug Kitchen</td>\n",
       "    </tr>\n",
       "    <tr>\n",
       "      <th>19</th>\n",
       "      <td>Decision Points</td>\n",
       "      <td>George W. Bush</td>\n",
       "      <td>Malcolm Gladwell</td>\n",
       "    </tr>\n",
       "  </tbody>\n",
       "</table>\n",
       "</div>"
      ],
      "text/plain": [
       "                                                 Name           Author  \\\n",
       "0                   Have a Little Faith: A True Story      Mitch Albom   \n",
       "1                                 StrengthsFinder 2.0           Gallup   \n",
       "2                      Dear Zoo: A Lift-the-Flap Book     Rod Campbell   \n",
       "3   The Life-Changing Magic of Tidying Up: The Jap...      Marie Kondō   \n",
       "4                                           Gone Girl    Gillian Flynn   \n",
       "5   Last Week Tonight with John Oliver Presents A ...       Jill Twiss   \n",
       "6                                 StrengthsFinder 2.0           Gallup   \n",
       "7   Secret Garden: An Inky Treasure Hunt and Color...  Johanna Basford   \n",
       "8   Proof of Heaven: A Neurosurgeon's Journey into...   Eben Alexander   \n",
       "9                        The Elegance of the Hedgehog   Muriel Barbery   \n",
       "10  The Short Second Life of Bree Tanner: An Eclip...  Stephenie Meyer   \n",
       "11                            Where the Crawdads Sing      Delia Owens   \n",
       "12  Jesus Calling: Enjoying Peace in His Presence ...      Sarah Young   \n",
       "13  Wheat Belly: Lose the Wheat, Lose the Weight, ...    William Davis   \n",
       "14  Magnolia Table: A Collection of Recipes for Ga...    Joanna Gaines   \n",
       "15  Rush Revere and the First Patriots: Time-Trave...    Rush Limbaugh   \n",
       "16                                        The Martian        Andy Weir   \n",
       "17  Wild: From Lost to Found on the Pacific Crest ...   Cheryl Strayed   \n",
       "18  Cravings: Recipes for All the Food You Want to...   Chrissy Teigen   \n",
       "19                                    Decision Points   George W. Bush   \n",
       "\n",
       "          Prediction  \n",
       "0        David Platt  \n",
       "1             Gallup  \n",
       "2       Rod Campbell  \n",
       "3        Marie Kondō  \n",
       "4      Gillian Flynn  \n",
       "5   Elizabeth Strout  \n",
       "6             Gallup  \n",
       "7    Marjorie Sarnat  \n",
       "8     Eben Alexander  \n",
       "9       Rick Riordan  \n",
       "10   Stephenie Meyer  \n",
       "11      Rick Riordan  \n",
       "12       Sarah Young  \n",
       "13     William Davis  \n",
       "14       Chip Gaines  \n",
       "15     Rush Limbaugh  \n",
       "16      Rick Riordan  \n",
       "17         Dan Brown  \n",
       "18      Thug Kitchen  \n",
       "19  Malcolm Gladwell  "
      ]
     },
     "execution_count": 129,
     "metadata": {},
     "output_type": "execute_result"
    }
   ],
   "source": [
    "result_tfidf[:20] # 정확도 0.618"
   ]
  },
  {
   "cell_type": "markdown",
   "metadata": {},
   "source": [
    "## 책 제목으로 장르 예측"
   ]
  },
  {
   "cell_type": "code",
   "execution_count": 182,
   "metadata": {},
   "outputs": [],
   "source": [
    "from sklearn.model_selection import train_test_split\n",
    "\n",
    "x_train, x_test, y_train, y_test = train_test_split(df['Name'], df['Genre'], test_size=0.2, random_state=1)"
   ]
  },
  {
   "cell_type": "markdown",
   "metadata": {},
   "source": [
    "### 릿지 회귀 이용\n",
    "\n",
    "#### CountVector"
   ]
  },
  {
   "cell_type": "code",
   "execution_count": 131,
   "metadata": {},
   "outputs": [],
   "source": [
    "from sklearn.feature_extraction.text import CountVectorizer\n",
    "\n",
    "cv = CountVectorizer(tokenizer=tokenizer).fit(x_train)\n",
    "\n",
    "x_train_cv = cv.fit_transform(x_train)\n",
    "x_test_cv = cv.transform(x_test)"
   ]
  },
  {
   "cell_type": "code",
   "execution_count": 184,
   "metadata": {},
   "outputs": [
    {
     "name": "stdout",
     "output_type": "stream",
     "text": [
      "Train set score : 1.000\n",
      "Test set score : 0.900\n"
     ]
    }
   ],
   "source": [
    "from sklearn.linear_model import RidgeClassifier\n",
    "\n",
    "ridge = RidgeClassifier()\n",
    "\n",
    "ridge.fit(x_train_cv, y_train)\n",
    "\n",
    "print('Train set score : {:.3f}'.format(ridge.score(x_train_cv, y_train)))\n",
    "print('Test set score : {:.3f}'.format(ridge.score(x_test_cv, y_test)))"
   ]
  },
  {
   "cell_type": "code",
   "execution_count": 133,
   "metadata": {},
   "outputs": [
    {
     "data": {
      "text/html": [
       "<div>\n",
       "<style scoped>\n",
       "    .dataframe tbody tr th:only-of-type {\n",
       "        vertical-align: middle;\n",
       "    }\n",
       "\n",
       "    .dataframe tbody tr th {\n",
       "        vertical-align: top;\n",
       "    }\n",
       "\n",
       "    .dataframe thead th {\n",
       "        text-align: right;\n",
       "    }\n",
       "</style>\n",
       "<table border=\"1\" class=\"dataframe\">\n",
       "  <thead>\n",
       "    <tr style=\"text-align: right;\">\n",
       "      <th></th>\n",
       "      <th>Name</th>\n",
       "      <th>Genre</th>\n",
       "      <th>Prediction</th>\n",
       "    </tr>\n",
       "  </thead>\n",
       "  <tbody>\n",
       "    <tr>\n",
       "      <th>0</th>\n",
       "      <td>Have a Little Faith: A True Story</td>\n",
       "      <td>Non Fiction</td>\n",
       "      <td>Non Fiction</td>\n",
       "    </tr>\n",
       "    <tr>\n",
       "      <th>1</th>\n",
       "      <td>StrengthsFinder 2.0</td>\n",
       "      <td>Non Fiction</td>\n",
       "      <td>Non Fiction</td>\n",
       "    </tr>\n",
       "    <tr>\n",
       "      <th>2</th>\n",
       "      <td>Dear Zoo: A Lift-the-Flap Book</td>\n",
       "      <td>Fiction</td>\n",
       "      <td>Fiction</td>\n",
       "    </tr>\n",
       "    <tr>\n",
       "      <th>3</th>\n",
       "      <td>The Life-Changing Magic of Tidying Up: The Jap...</td>\n",
       "      <td>Non Fiction</td>\n",
       "      <td>Non Fiction</td>\n",
       "    </tr>\n",
       "    <tr>\n",
       "      <th>4</th>\n",
       "      <td>Gone Girl</td>\n",
       "      <td>Fiction</td>\n",
       "      <td>Fiction</td>\n",
       "    </tr>\n",
       "    <tr>\n",
       "      <th>5</th>\n",
       "      <td>Last Week Tonight with John Oliver Presents A ...</td>\n",
       "      <td>Fiction</td>\n",
       "      <td>Fiction</td>\n",
       "    </tr>\n",
       "    <tr>\n",
       "      <th>6</th>\n",
       "      <td>StrengthsFinder 2.0</td>\n",
       "      <td>Non Fiction</td>\n",
       "      <td>Non Fiction</td>\n",
       "    </tr>\n",
       "    <tr>\n",
       "      <th>7</th>\n",
       "      <td>Secret Garden: An Inky Treasure Hunt and Color...</td>\n",
       "      <td>Non Fiction</td>\n",
       "      <td>Non Fiction</td>\n",
       "    </tr>\n",
       "    <tr>\n",
       "      <th>8</th>\n",
       "      <td>Proof of Heaven: A Neurosurgeon's Journey into...</td>\n",
       "      <td>Non Fiction</td>\n",
       "      <td>Non Fiction</td>\n",
       "    </tr>\n",
       "    <tr>\n",
       "      <th>9</th>\n",
       "      <td>The Elegance of the Hedgehog</td>\n",
       "      <td>Fiction</td>\n",
       "      <td>Fiction</td>\n",
       "    </tr>\n",
       "    <tr>\n",
       "      <th>10</th>\n",
       "      <td>The Short Second Life of Bree Tanner: An Eclip...</td>\n",
       "      <td>Fiction</td>\n",
       "      <td>Fiction</td>\n",
       "    </tr>\n",
       "    <tr>\n",
       "      <th>11</th>\n",
       "      <td>Where the Crawdads Sing</td>\n",
       "      <td>Fiction</td>\n",
       "      <td>Fiction</td>\n",
       "    </tr>\n",
       "    <tr>\n",
       "      <th>12</th>\n",
       "      <td>Jesus Calling: Enjoying Peace in His Presence ...</td>\n",
       "      <td>Non Fiction</td>\n",
       "      <td>Non Fiction</td>\n",
       "    </tr>\n",
       "    <tr>\n",
       "      <th>13</th>\n",
       "      <td>Wheat Belly: Lose the Wheat, Lose the Weight, ...</td>\n",
       "      <td>Non Fiction</td>\n",
       "      <td>Non Fiction</td>\n",
       "    </tr>\n",
       "    <tr>\n",
       "      <th>14</th>\n",
       "      <td>Magnolia Table: A Collection of Recipes for Ga...</td>\n",
       "      <td>Non Fiction</td>\n",
       "      <td>Non Fiction</td>\n",
       "    </tr>\n",
       "    <tr>\n",
       "      <th>15</th>\n",
       "      <td>Rush Revere and the First Patriots: Time-Trave...</td>\n",
       "      <td>Fiction</td>\n",
       "      <td>Fiction</td>\n",
       "    </tr>\n",
       "    <tr>\n",
       "      <th>16</th>\n",
       "      <td>The Martian</td>\n",
       "      <td>Fiction</td>\n",
       "      <td>Fiction</td>\n",
       "    </tr>\n",
       "    <tr>\n",
       "      <th>17</th>\n",
       "      <td>Wild: From Lost to Found on the Pacific Crest ...</td>\n",
       "      <td>Non Fiction</td>\n",
       "      <td>Fiction</td>\n",
       "    </tr>\n",
       "    <tr>\n",
       "      <th>18</th>\n",
       "      <td>Cravings: Recipes for All the Food You Want to...</td>\n",
       "      <td>Non Fiction</td>\n",
       "      <td>Non Fiction</td>\n",
       "    </tr>\n",
       "    <tr>\n",
       "      <th>19</th>\n",
       "      <td>Decision Points</td>\n",
       "      <td>Non Fiction</td>\n",
       "      <td>Non Fiction</td>\n",
       "    </tr>\n",
       "  </tbody>\n",
       "</table>\n",
       "</div>"
      ],
      "text/plain": [
       "                                                 Name        Genre  \\\n",
       "0                   Have a Little Faith: A True Story  Non Fiction   \n",
       "1                                 StrengthsFinder 2.0  Non Fiction   \n",
       "2                      Dear Zoo: A Lift-the-Flap Book      Fiction   \n",
       "3   The Life-Changing Magic of Tidying Up: The Jap...  Non Fiction   \n",
       "4                                           Gone Girl      Fiction   \n",
       "5   Last Week Tonight with John Oliver Presents A ...      Fiction   \n",
       "6                                 StrengthsFinder 2.0  Non Fiction   \n",
       "7   Secret Garden: An Inky Treasure Hunt and Color...  Non Fiction   \n",
       "8   Proof of Heaven: A Neurosurgeon's Journey into...  Non Fiction   \n",
       "9                        The Elegance of the Hedgehog      Fiction   \n",
       "10  The Short Second Life of Bree Tanner: An Eclip...      Fiction   \n",
       "11                            Where the Crawdads Sing      Fiction   \n",
       "12  Jesus Calling: Enjoying Peace in His Presence ...  Non Fiction   \n",
       "13  Wheat Belly: Lose the Wheat, Lose the Weight, ...  Non Fiction   \n",
       "14  Magnolia Table: A Collection of Recipes for Ga...  Non Fiction   \n",
       "15  Rush Revere and the First Patriots: Time-Trave...      Fiction   \n",
       "16                                        The Martian      Fiction   \n",
       "17  Wild: From Lost to Found on the Pacific Crest ...  Non Fiction   \n",
       "18  Cravings: Recipes for All the Food You Want to...  Non Fiction   \n",
       "19                                    Decision Points  Non Fiction   \n",
       "\n",
       "     Prediction  \n",
       "0   Non Fiction  \n",
       "1   Non Fiction  \n",
       "2       Fiction  \n",
       "3   Non Fiction  \n",
       "4       Fiction  \n",
       "5       Fiction  \n",
       "6   Non Fiction  \n",
       "7   Non Fiction  \n",
       "8   Non Fiction  \n",
       "9       Fiction  \n",
       "10      Fiction  \n",
       "11      Fiction  \n",
       "12  Non Fiction  \n",
       "13  Non Fiction  \n",
       "14  Non Fiction  \n",
       "15      Fiction  \n",
       "16      Fiction  \n",
       "17      Fiction  \n",
       "18  Non Fiction  \n",
       "19  Non Fiction  "
      ]
     },
     "execution_count": 133,
     "metadata": {},
     "output_type": "execute_result"
    }
   ],
   "source": [
    "import pandas as pd\n",
    "\n",
    "xy_cv = pd.concat([x_test, y_test], axis=1)\n",
    "xy_cv = xy_cv.reset_index(drop=True)\n",
    "\n",
    "pred_cv = pd.DataFrame(ridge.predict(x_test_cv), columns=['Prediction'])\n",
    "\n",
    "genre_cv = pd.concat([xy_cv, pred_cv], axis=1)\n",
    "genre_cv[:20]"
   ]
  },
  {
   "cell_type": "markdown",
   "metadata": {},
   "source": [
    "#### TfidfVector"
   ]
  },
  {
   "cell_type": "code",
   "execution_count": 189,
   "metadata": {},
   "outputs": [],
   "source": [
    "from sklearn.feature_extraction.text import TfidfVectorizer\n",
    "\n",
    "tfidf = TfidfVectorizer(tokenizer=tokenizer).fit(x_train)\n",
    "\n",
    "x_train_tfidf = tfidf.fit_transform(x_train)\n",
    "x_test_tfidf = tfidf.transform(x_test)"
   ]
  },
  {
   "cell_type": "code",
   "execution_count": 190,
   "metadata": {},
   "outputs": [
    {
     "name": "stdout",
     "output_type": "stream",
     "text": [
      "Train set score : 0.998\n",
      "Test set score : 0.909\n"
     ]
    }
   ],
   "source": [
    "from sklearn.linear_model import RidgeClassifier\n",
    "\n",
    "ridge = RidgeClassifier()\n",
    "\n",
    "ridge.fit(x_train_tfidf, y_train)\n",
    "\n",
    "print('Train set score : {:.3f}'.format(ridge.score(x_train_tfidf, y_train)))\n",
    "print('Test set score : {:.3f}'.format(ridge.score(x_test_tfidf, y_test)))"
   ]
  },
  {
   "cell_type": "code",
   "execution_count": 136,
   "metadata": {},
   "outputs": [
    {
     "data": {
      "text/html": [
       "<div>\n",
       "<style scoped>\n",
       "    .dataframe tbody tr th:only-of-type {\n",
       "        vertical-align: middle;\n",
       "    }\n",
       "\n",
       "    .dataframe tbody tr th {\n",
       "        vertical-align: top;\n",
       "    }\n",
       "\n",
       "    .dataframe thead th {\n",
       "        text-align: right;\n",
       "    }\n",
       "</style>\n",
       "<table border=\"1\" class=\"dataframe\">\n",
       "  <thead>\n",
       "    <tr style=\"text-align: right;\">\n",
       "      <th></th>\n",
       "      <th>Name</th>\n",
       "      <th>Genre</th>\n",
       "      <th>Prediction</th>\n",
       "    </tr>\n",
       "  </thead>\n",
       "  <tbody>\n",
       "    <tr>\n",
       "      <th>0</th>\n",
       "      <td>Have a Little Faith: A True Story</td>\n",
       "      <td>Non Fiction</td>\n",
       "      <td>Non Fiction</td>\n",
       "    </tr>\n",
       "    <tr>\n",
       "      <th>1</th>\n",
       "      <td>StrengthsFinder 2.0</td>\n",
       "      <td>Non Fiction</td>\n",
       "      <td>Non Fiction</td>\n",
       "    </tr>\n",
       "    <tr>\n",
       "      <th>2</th>\n",
       "      <td>Dear Zoo: A Lift-the-Flap Book</td>\n",
       "      <td>Fiction</td>\n",
       "      <td>Fiction</td>\n",
       "    </tr>\n",
       "    <tr>\n",
       "      <th>3</th>\n",
       "      <td>The Life-Changing Magic of Tidying Up: The Jap...</td>\n",
       "      <td>Non Fiction</td>\n",
       "      <td>Non Fiction</td>\n",
       "    </tr>\n",
       "    <tr>\n",
       "      <th>4</th>\n",
       "      <td>Gone Girl</td>\n",
       "      <td>Fiction</td>\n",
       "      <td>Fiction</td>\n",
       "    </tr>\n",
       "    <tr>\n",
       "      <th>5</th>\n",
       "      <td>Last Week Tonight with John Oliver Presents A ...</td>\n",
       "      <td>Fiction</td>\n",
       "      <td>Fiction</td>\n",
       "    </tr>\n",
       "    <tr>\n",
       "      <th>6</th>\n",
       "      <td>StrengthsFinder 2.0</td>\n",
       "      <td>Non Fiction</td>\n",
       "      <td>Non Fiction</td>\n",
       "    </tr>\n",
       "    <tr>\n",
       "      <th>7</th>\n",
       "      <td>Secret Garden: An Inky Treasure Hunt and Color...</td>\n",
       "      <td>Non Fiction</td>\n",
       "      <td>Non Fiction</td>\n",
       "    </tr>\n",
       "    <tr>\n",
       "      <th>8</th>\n",
       "      <td>Proof of Heaven: A Neurosurgeon's Journey into...</td>\n",
       "      <td>Non Fiction</td>\n",
       "      <td>Non Fiction</td>\n",
       "    </tr>\n",
       "    <tr>\n",
       "      <th>9</th>\n",
       "      <td>The Elegance of the Hedgehog</td>\n",
       "      <td>Fiction</td>\n",
       "      <td>Non Fiction</td>\n",
       "    </tr>\n",
       "    <tr>\n",
       "      <th>10</th>\n",
       "      <td>The Short Second Life of Bree Tanner: An Eclip...</td>\n",
       "      <td>Fiction</td>\n",
       "      <td>Fiction</td>\n",
       "    </tr>\n",
       "    <tr>\n",
       "      <th>11</th>\n",
       "      <td>Where the Crawdads Sing</td>\n",
       "      <td>Fiction</td>\n",
       "      <td>Non Fiction</td>\n",
       "    </tr>\n",
       "    <tr>\n",
       "      <th>12</th>\n",
       "      <td>Jesus Calling: Enjoying Peace in His Presence ...</td>\n",
       "      <td>Non Fiction</td>\n",
       "      <td>Non Fiction</td>\n",
       "    </tr>\n",
       "    <tr>\n",
       "      <th>13</th>\n",
       "      <td>Wheat Belly: Lose the Wheat, Lose the Weight, ...</td>\n",
       "      <td>Non Fiction</td>\n",
       "      <td>Non Fiction</td>\n",
       "    </tr>\n",
       "    <tr>\n",
       "      <th>14</th>\n",
       "      <td>Magnolia Table: A Collection of Recipes for Ga...</td>\n",
       "      <td>Non Fiction</td>\n",
       "      <td>Non Fiction</td>\n",
       "    </tr>\n",
       "    <tr>\n",
       "      <th>15</th>\n",
       "      <td>Rush Revere and the First Patriots: Time-Trave...</td>\n",
       "      <td>Fiction</td>\n",
       "      <td>Fiction</td>\n",
       "    </tr>\n",
       "    <tr>\n",
       "      <th>16</th>\n",
       "      <td>The Martian</td>\n",
       "      <td>Fiction</td>\n",
       "      <td>Non Fiction</td>\n",
       "    </tr>\n",
       "    <tr>\n",
       "      <th>17</th>\n",
       "      <td>Wild: From Lost to Found on the Pacific Crest ...</td>\n",
       "      <td>Non Fiction</td>\n",
       "      <td>Fiction</td>\n",
       "    </tr>\n",
       "    <tr>\n",
       "      <th>18</th>\n",
       "      <td>Cravings: Recipes for All the Food You Want to...</td>\n",
       "      <td>Non Fiction</td>\n",
       "      <td>Non Fiction</td>\n",
       "    </tr>\n",
       "    <tr>\n",
       "      <th>19</th>\n",
       "      <td>Decision Points</td>\n",
       "      <td>Non Fiction</td>\n",
       "      <td>Non Fiction</td>\n",
       "    </tr>\n",
       "  </tbody>\n",
       "</table>\n",
       "</div>"
      ],
      "text/plain": [
       "                                                 Name        Genre  \\\n",
       "0                   Have a Little Faith: A True Story  Non Fiction   \n",
       "1                                 StrengthsFinder 2.0  Non Fiction   \n",
       "2                      Dear Zoo: A Lift-the-Flap Book      Fiction   \n",
       "3   The Life-Changing Magic of Tidying Up: The Jap...  Non Fiction   \n",
       "4                                           Gone Girl      Fiction   \n",
       "5   Last Week Tonight with John Oliver Presents A ...      Fiction   \n",
       "6                                 StrengthsFinder 2.0  Non Fiction   \n",
       "7   Secret Garden: An Inky Treasure Hunt and Color...  Non Fiction   \n",
       "8   Proof of Heaven: A Neurosurgeon's Journey into...  Non Fiction   \n",
       "9                        The Elegance of the Hedgehog      Fiction   \n",
       "10  The Short Second Life of Bree Tanner: An Eclip...      Fiction   \n",
       "11                            Where the Crawdads Sing      Fiction   \n",
       "12  Jesus Calling: Enjoying Peace in His Presence ...  Non Fiction   \n",
       "13  Wheat Belly: Lose the Wheat, Lose the Weight, ...  Non Fiction   \n",
       "14  Magnolia Table: A Collection of Recipes for Ga...  Non Fiction   \n",
       "15  Rush Revere and the First Patriots: Time-Trave...      Fiction   \n",
       "16                                        The Martian      Fiction   \n",
       "17  Wild: From Lost to Found on the Pacific Crest ...  Non Fiction   \n",
       "18  Cravings: Recipes for All the Food You Want to...  Non Fiction   \n",
       "19                                    Decision Points  Non Fiction   \n",
       "\n",
       "     Prediction  \n",
       "0   Non Fiction  \n",
       "1   Non Fiction  \n",
       "2       Fiction  \n",
       "3   Non Fiction  \n",
       "4       Fiction  \n",
       "5       Fiction  \n",
       "6   Non Fiction  \n",
       "7   Non Fiction  \n",
       "8   Non Fiction  \n",
       "9   Non Fiction  \n",
       "10      Fiction  \n",
       "11  Non Fiction  \n",
       "12  Non Fiction  \n",
       "13  Non Fiction  \n",
       "14  Non Fiction  \n",
       "15      Fiction  \n",
       "16  Non Fiction  \n",
       "17      Fiction  \n",
       "18  Non Fiction  \n",
       "19  Non Fiction  "
      ]
     },
     "execution_count": 136,
     "metadata": {},
     "output_type": "execute_result"
    }
   ],
   "source": [
    "xy_tfidf = pd.concat([x_test, y_test], axis=1)\n",
    "xy_tfidf = xy_tfidf.reset_index(drop=True)\n",
    "\n",
    "pred_tfidf = pd.DataFrame(ridge.predict(x_test_tfidf), columns=['Prediction'])\n",
    "\n",
    "genre_tfidf = pd.concat([xy_tfidf, pred_tfidf], axis=1)\n",
    "genre_tfidf[:20]"
   ]
  },
  {
   "cell_type": "markdown",
   "metadata": {},
   "source": [
    "### 딥러닝 이용\n",
    "\n",
    "#### 매개변수 결정"
   ]
  },
  {
   "cell_type": "code",
   "execution_count": 22,
   "metadata": {},
   "outputs": [
    {
     "data": {
      "image/png": "[encoded data removed]",
      "text/plain": [
       "<Figure size 432x288 with 1 Axes>"
      ]
     },
     "metadata": {
      "needs_background": "light"
     },
     "output_type": "display_data"
    },
    {
     "name": "stdout",
     "output_type": "stream",
     "text": [
      "가장 긴 문장 :  24 개의 단어\n",
      "가장 짧은 문장 :  1 개의 단어\n"
     ]
    }
   ],
   "source": [
    "import seaborn as sns\n",
    "import numpy as np\n",
    "import matplotlib.pyplot as plt\n",
    "\n",
    "df['len'] = df.Name.apply(lambda words:len(words.split()))\n",
    "\n",
    "mean_seq_len = np.round(df.len.mean()).astype(int)\n",
    "sns.distplot(tuple(df.len), hist=True, kde=True, label='Document lengths')\n",
    "plt.axvline(x=mean_seq_len, color='k', linestyle='--', label=f'Sequence length mean:{mean_seq_len}')\n",
    "plt.title('Text lengths')\n",
    "plt.legend()\n",
    "plt.show()\n",
    "\n",
    "print('가장 긴 문장 : ', df['len'].max(), '개의 단어')\n",
    "print('가장 짧은 문장 : ', df['len'].min(), '개의 단어')"
   ]
  },
  {
   "cell_type": "markdown",
   "metadata": {},
   "source": [
    "#### 데이터 정의"
   ]
  },
  {
   "cell_type": "code",
   "execution_count": 23,
   "metadata": {},
   "outputs": [
    {
     "name": "stdout",
     "output_type": "stream",
     "text": [
      "550\n",
      "29\n",
      "{'Fiction', 'Non Fiction'}\n"
     ]
    }
   ],
   "source": [
    "title = df['Name'].tolist()\n",
    "genre = df['Genre'].tolist()\n",
    "\n",
    "print(len(title))\n",
    "print(len(title[0]))\n",
    "print(set(genre))"
   ]
  },
  {
   "cell_type": "code",
   "execution_count": 27,
   "metadata": {},
   "outputs": [
    {
     "name": "stdout",
     "output_type": "stream",
     "text": [
      "{0, 1}\n"
     ]
    }
   ],
   "source": [
    "import numpy as np\n",
    "\n",
    "label_dict = {'Fiction' : 0, 'Non Fiction' : 1}\n",
    "\n",
    "y = np.array([label_dict[c] for c in genre])\n",
    "print(set(y))"
   ]
  },
  {
   "cell_type": "markdown",
   "metadata": {},
   "source": [
    "#### Word Embedding"
   ]
  },
  {
   "cell_type": "code",
   "execution_count": 24,
   "metadata": {},
   "outputs": [],
   "source": [
    "import numpy as np\n",
    "import tensorflow as tf\n",
    "from tensorflow.keras.preprocessing.text import Tokenizer"
   ]
  },
  {
   "cell_type": "code",
   "execution_count": 25,
   "metadata": {},
   "outputs": [
    {
     "name": "stdout",
     "output_type": "stream",
     "text": [
      "[5, 5, 8, 3, 9, 10, 20, 6, 7, 6]\n",
      "1200\n"
     ]
    }
   ],
   "source": [
    "max_words = 1200\n",
    "tokenizer = Tokenizer(num_words=max_words)\n",
    "\n",
    "tokenizer.fit_on_texts(title)\n",
    "\n",
    "x = tokenizer.texts_to_sequences(title)\n",
    "\n",
    "print([len(title) for title in x[:10]])\n",
    "print(len(tokenizer.word_index))"
   ]
  },
  {
   "cell_type": "code",
   "execution_count": 26,
   "metadata": {},
   "outputs": [
    {
     "name": "stdout",
     "output_type": "stream",
     "text": [
      "[[132  58 609 610 611   0   0   0   0   0   0   0]\n",
      " [278 361 612   3  15   0   0   0   0   0   0   0]\n",
      " [613 362   7  13  21 614   5 615   0   0   0   0]\n",
      " [616 617 363   0   0   0   0   0   0   0   0   0]\n",
      " [ 20 618 169 364 106 279 214 215  22   0   0   0]\n",
      " [  3 107  17 170   3 619   2 365   4  59   0   0]\n",
      " [  3 218   2 219   3 220   2 221   3 107  17 170]\n",
      " [  3 620   8 621   3  15   0   0   0   0   0   0]\n",
      " [  3 622 623 171 280   4 133   0   0   0   0   0]\n",
      " [  3  23 366 367   3  15   0   0   0   0   0   0]]\n"
     ]
    }
   ],
   "source": [
    "from tensorflow.keras.preprocessing.sequence import pad_sequences\n",
    "\n",
    "maxlen  = 12\n",
    "x = pad_sequences(x, maxlen=maxlen, padding='post')\n",
    "print(x[:10])"
   ]
  },
  {
   "cell_type": "markdown",
   "metadata": {},
   "source": [
    "#### 데이터 분할"
   ]
  },
  {
   "cell_type": "code",
   "execution_count": 28,
   "metadata": {},
   "outputs": [
    {
     "name": "stdout",
     "output_type": "stream",
     "text": [
      "440\n",
      "110\n",
      "[1 1 0 1 0 0 1 1 1 0 0 0 1 1 1 0 0 1 1 1]\n"
     ]
    }
   ],
   "source": [
    "from sklearn.model_selection import train_test_split\n",
    "\n",
    "x_train, x_test, y_train, y_test = train_test_split(x, y, test_size=0.2, random_state=1)\n",
    "\n",
    "print(len(x_train))\n",
    "print(len(x_test))\n",
    "print(y_test[:20])"
   ]
  },
  {
   "cell_type": "code",
   "execution_count": 29,
   "metadata": {},
   "outputs": [
    {
     "name": "stdout",
     "output_type": "stream",
     "text": [
      "(440, 2)\n"
     ]
    }
   ],
   "source": [
    "from keras.utils import np_utils\n",
    "\n",
    "y_tr = np_utils.to_categorical(y_train)\n",
    "y_ts = np_utils.to_categorical(y_test)\n",
    "print(y_tr.shape)"
   ]
  },
  {
   "cell_type": "markdown",
   "metadata": {},
   "source": [
    "#### CNN 모델 정의"
   ]
  },
  {
   "cell_type": "code",
   "execution_count": null,
   "metadata": {},
   "outputs": [],
   "source": [
    "from tensorflow.keras import Sequential\n",
    "from tensorflow.keras.layers import Flatten, Conv1D, MaxPooling1D, Dense, Embedding, LSTM, Dropout, Bidirectional\n",
    "from tensorflow.keras.optimizers import Adam\n",
    "\n",
    "embedding_dim=200\n",
    "\n",
    "model2 = Sequential([\n",
    "    Embedding(max_words, embedding_dim, input_length=maxlen),\n",
    "    Conv1D(50, kernel_size=5, strides=1, padding='valid'),\n",
    "    MaxPooling1D(1, padding='valid'),\n",
    "    Flatten(),\n",
    "    Dense(512, activation='relu'),\n",
    "    Dropout(0.1),\n",
    "    Dense(2, activation='sigmoid')\n",
    "])\n",
    "\n",
    "adam = Adam()\n",
    "model2.compile(loss='binary_crossentropy',\n",
    "              optimizer='adam',\n",
    "              metrics=['accuracy'])\n",
    "\n",
    "model2.summary()"
   ]
  },
  {
   "cell_type": "markdown",
   "metadata": {},
   "source": [
    "#### 모델 학습"
   ]
  },
  {
   "cell_type": "code",
   "execution_count": 46,
   "metadata": {},
   "outputs": [
    {
     "name": "stdout",
     "output_type": "stream",
     "text": [
      "Epoch 1/10\n",
      "13/13 [==============================] - 3s 51ms/step - loss: 0.6752 - accuracy: 0.6092 - val_loss: 0.5899 - val_accuracy: 0.7500\n",
      "Epoch 2/10\n",
      "13/13 [==============================] - 0s 24ms/step - loss: 0.4884 - accuracy: 0.8094 - val_loss: 0.4057 - val_accuracy: 0.8182\n",
      "Epoch 3/10\n",
      "13/13 [==============================] - 0s 22ms/step - loss: 0.2449 - accuracy: 0.9257 - val_loss: 0.2529 - val_accuracy: 0.8864\n",
      "Epoch 4/10\n",
      "13/13 [==============================] - 0s 19ms/step - loss: 0.0566 - accuracy: 0.9787 - val_loss: 0.2636 - val_accuracy: 0.9318\n",
      "Epoch 5/10\n",
      "13/13 [==============================] - 0s 19ms/step - loss: 0.0229 - accuracy: 0.9860 - val_loss: 0.2589 - val_accuracy: 0.9318\n",
      "Epoch 6/10\n",
      "13/13 [==============================] - 0s 21ms/step - loss: 0.0211 - accuracy: 0.9890 - val_loss: 0.3811 - val_accuracy: 0.8636\n",
      "Epoch 7/10\n",
      "13/13 [==============================] - 0s 19ms/step - loss: 0.0092 - accuracy: 0.9960 - val_loss: 0.2716 - val_accuracy: 0.8864\n",
      "Epoch 8/10\n",
      "13/13 [==============================] - 0s 21ms/step - loss: 0.0013 - accuracy: 1.0000 - val_loss: 0.2360 - val_accuracy: 0.9091\n",
      "Epoch 9/10\n",
      "13/13 [==============================] - 0s 20ms/step - loss: 9.7826e-04 - accuracy: 1.0000 - val_loss: 0.2350 - val_accuracy: 0.9091\n",
      "Epoch 10/10\n",
      "13/13 [==============================] - 0s 22ms/step - loss: 5.9911e-04 - accuracy: 1.0000 - val_loss: 0.2365 - val_accuracy: 0.9091\n"
     ]
    }
   ],
   "source": [
    "history = model2.fit(x_train, y_tr, epochs=10, validation_split=0.1)"
   ]
  },
  {
   "cell_type": "markdown",
   "metadata": {},
   "source": [
    "#### 모델 학습 결과"
   ]
  },
  {
   "cell_type": "code",
   "execution_count": 47,
   "metadata": {
    "scrolled": true
   },
   "outputs": [
    {
     "data": {
      "image/png": "[encoded data removed]",
      "text/plain": [
       "<Figure size 864x288 with 2 Axes>"
      ]
     },
     "metadata": {
      "needs_background": "light"
     },
     "output_type": "display_data"
    }
   ],
   "source": [
    "plt.figure(figsize=(12, 4))\n",
    "\n",
    "plt.subplot(1, 2, 1)\n",
    "plt.title('Loss of CNN')\n",
    "plt.plot(history.history['loss'], 'b-', label='loss')\n",
    "plt.plot(history.history['val_loss'], 'r-', label='val_loss')\n",
    "plt.xlabel('Epoch')\n",
    "plt.legend()\n",
    "\n",
    "plt.subplot(1, 2, 2)\n",
    "plt.title('Accuracy of CNN')\n",
    "plt.plot(history.history['accuracy'], 'g-', label='accuracy')\n",
    "plt.plot(history.history['val_accuracy'], 'k-', label='val_accuray')\n",
    "plt.xlabel('Epoch')\n",
    "plt.legend()\n",
    "plt.show()"
   ]
  },
  {
   "cell_type": "code",
   "execution_count": 48,
   "metadata": {},
   "outputs": [
    {
     "name": "stdout",
     "output_type": "stream",
     "text": [
      "4/4 [==============================] - 0s 5ms/step - loss: 0.3480 - accuracy: 0.8727\n",
      "0.8727272748947144\n"
     ]
    }
   ],
   "source": [
    "print(model2.evaluate(x_test, y_ts)[1])"
   ]
  },
  {
   "cell_type": "markdown",
   "metadata": {},
   "source": [
    "#### Test set 분류 결과"
   ]
  },
  {
   "cell_type": "code",
   "execution_count": 35,
   "metadata": {},
   "outputs": [
    {
     "data": {
      "text/html": [
       "<div>\n",
       "<style scoped>\n",
       "    .dataframe tbody tr th:only-of-type {\n",
       "        vertical-align: middle;\n",
       "    }\n",
       "\n",
       "    .dataframe tbody tr th {\n",
       "        vertical-align: top;\n",
       "    }\n",
       "\n",
       "    .dataframe thead th {\n",
       "        text-align: right;\n",
       "    }\n",
       "</style>\n",
       "<table border=\"1\" class=\"dataframe\">\n",
       "  <thead>\n",
       "    <tr style=\"text-align: right;\">\n",
       "      <th></th>\n",
       "      <th>0</th>\n",
       "      <th>1</th>\n",
       "      <th>prediction</th>\n",
       "    </tr>\n",
       "  </thead>\n",
       "  <tbody>\n",
       "    <tr>\n",
       "      <th>0</th>\n",
       "      <td>1.215771e-01</td>\n",
       "      <td>0.854602</td>\n",
       "      <td>1</td>\n",
       "    </tr>\n",
       "    <tr>\n",
       "      <th>1</th>\n",
       "      <td>6.182451e-07</td>\n",
       "      <td>0.999999</td>\n",
       "      <td>1</td>\n",
       "    </tr>\n",
       "    <tr>\n",
       "      <th>2</th>\n",
       "      <td>9.999647e-01</td>\n",
       "      <td>0.000039</td>\n",
       "      <td>0</td>\n",
       "    </tr>\n",
       "    <tr>\n",
       "      <th>3</th>\n",
       "      <td>1.209180e-04</td>\n",
       "      <td>0.999881</td>\n",
       "      <td>1</td>\n",
       "    </tr>\n",
       "    <tr>\n",
       "      <th>4</th>\n",
       "      <td>9.991783e-01</td>\n",
       "      <td>0.000869</td>\n",
       "      <td>0</td>\n",
       "    </tr>\n",
       "    <tr>\n",
       "      <th>5</th>\n",
       "      <td>2.846622e-02</td>\n",
       "      <td>0.973460</td>\n",
       "      <td>1</td>\n",
       "    </tr>\n",
       "    <tr>\n",
       "      <th>6</th>\n",
       "      <td>6.182451e-07</td>\n",
       "      <td>0.999999</td>\n",
       "      <td>1</td>\n",
       "    </tr>\n",
       "    <tr>\n",
       "      <th>7</th>\n",
       "      <td>4.597604e-04</td>\n",
       "      <td>0.999558</td>\n",
       "      <td>1</td>\n",
       "    </tr>\n",
       "    <tr>\n",
       "      <th>8</th>\n",
       "      <td>1.271367e-04</td>\n",
       "      <td>0.999861</td>\n",
       "      <td>1</td>\n",
       "    </tr>\n",
       "    <tr>\n",
       "      <th>9</th>\n",
       "      <td>9.663558e-01</td>\n",
       "      <td>0.033607</td>\n",
       "      <td>0</td>\n",
       "    </tr>\n",
       "  </tbody>\n",
       "</table>\n",
       "</div>"
      ],
      "text/plain": [
       "              0         1 prediction\n",
       "0  1.215771e-01  0.854602          1\n",
       "1  6.182451e-07  0.999999          1\n",
       "2  9.999647e-01  0.000039          0\n",
       "3  1.209180e-04  0.999881          1\n",
       "4  9.991783e-01  0.000869          0\n",
       "5  2.846622e-02  0.973460          1\n",
       "6  6.182451e-07  0.999999          1\n",
       "7  4.597604e-04  0.999558          1\n",
       "8  1.271367e-04  0.999861          1\n",
       "9  9.663558e-01  0.033607          0"
      ]
     },
     "execution_count": 35,
     "metadata": {},
     "output_type": "execute_result"
    }
   ],
   "source": [
    "p = pd.DataFrame(model2.predict(x_test), columns=['0', '1'])    \n",
    "result = []\n",
    "\n",
    "for row in p['0']:\n",
    "    if row > 0.5:\n",
    "        result.append('0')\n",
    "    else:\n",
    "        result.append('1')\n",
    "\n",
    "p['prediction'] = result\n",
    "p[:10]"
   ]
  },
  {
   "cell_type": "code",
   "execution_count": 36,
   "metadata": {
    "scrolled": false
   },
   "outputs": [
    {
     "data": {
      "text/html": [
       "<div>\n",
       "<style scoped>\n",
       "    .dataframe tbody tr th:only-of-type {\n",
       "        vertical-align: middle;\n",
       "    }\n",
       "\n",
       "    .dataframe tbody tr th {\n",
       "        vertical-align: top;\n",
       "    }\n",
       "\n",
       "    .dataframe thead th {\n",
       "        text-align: right;\n",
       "    }\n",
       "</style>\n",
       "<table border=\"1\" class=\"dataframe\">\n",
       "  <thead>\n",
       "    <tr style=\"text-align: right;\">\n",
       "      <th></th>\n",
       "      <th>genre</th>\n",
       "      <th>prediction</th>\n",
       "    </tr>\n",
       "  </thead>\n",
       "  <tbody>\n",
       "    <tr>\n",
       "      <th>0</th>\n",
       "      <td>1</td>\n",
       "      <td>1</td>\n",
       "    </tr>\n",
       "    <tr>\n",
       "      <th>1</th>\n",
       "      <td>1</td>\n",
       "      <td>1</td>\n",
       "    </tr>\n",
       "    <tr>\n",
       "      <th>2</th>\n",
       "      <td>0</td>\n",
       "      <td>0</td>\n",
       "    </tr>\n",
       "    <tr>\n",
       "      <th>3</th>\n",
       "      <td>1</td>\n",
       "      <td>1</td>\n",
       "    </tr>\n",
       "    <tr>\n",
       "      <th>4</th>\n",
       "      <td>0</td>\n",
       "      <td>0</td>\n",
       "    </tr>\n",
       "    <tr>\n",
       "      <th>5</th>\n",
       "      <td>0</td>\n",
       "      <td>1</td>\n",
       "    </tr>\n",
       "    <tr>\n",
       "      <th>6</th>\n",
       "      <td>1</td>\n",
       "      <td>1</td>\n",
       "    </tr>\n",
       "    <tr>\n",
       "      <th>7</th>\n",
       "      <td>1</td>\n",
       "      <td>1</td>\n",
       "    </tr>\n",
       "    <tr>\n",
       "      <th>8</th>\n",
       "      <td>1</td>\n",
       "      <td>1</td>\n",
       "    </tr>\n",
       "    <tr>\n",
       "      <th>9</th>\n",
       "      <td>0</td>\n",
       "      <td>0</td>\n",
       "    </tr>\n",
       "  </tbody>\n",
       "</table>\n",
       "</div>"
      ],
      "text/plain": [
       "   genre prediction\n",
       "0      1          1\n",
       "1      1          1\n",
       "2      0          0\n",
       "3      1          1\n",
       "4      0          0\n",
       "5      0          1\n",
       "6      1          1\n",
       "7      1          1\n",
       "8      1          1\n",
       "9      0          0"
      ]
     },
     "execution_count": 36,
     "metadata": {},
     "output_type": "execute_result"
    }
   ],
   "source": [
    "y_df = pd.DataFrame(y_test, columns=['genre'])\n",
    "\n",
    "df_result = pd.concat([y_df, p['prediction']], axis=1)\n",
    "df_result[:10]"
   ]
  }
 ],
 "metadata": {
  "kernelspec": {
   "display_name": "Python 3",
   "language": "python",
   "name": "python3"
  },
  "language_info": {
   "codemirror_mode": {
    "name": "ipython",
    "version": 3
   },
   "file_extension": ".py",
   "mimetype": "text/x-python",
   "name": "python",
   "nbconvert_exporter": "python",
   "pygments_lexer": "ipython3",
   "version": "3.7.3"
  },
  "toc": {
   "base_numbering": 1,
   "nav_menu": {},
   "number_sections": true,
   "sideBar": true,
   "skip_h1_title": true,
   "title_cell": "Table of Contents",
   "title_sidebar": "Contents",
   "toc_cell": true,
   "toc_position": {},
   "toc_section_display": true,
   "toc_window_display": false
  }
 },
 "nbformat": 4,
 "nbformat_minor": 2
}
